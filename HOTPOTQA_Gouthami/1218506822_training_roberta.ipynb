{
 "cells": [
  {
   "cell_type": "markdown",
   "metadata": {
    "id": "JmfaxxMGLEIO"
   },
   "source": [
    "# Mounting Goolge drive."
   ]
  },
  {
   "cell_type": "markdown",
   "metadata": {
    "id": "d-gFZYfYT9Wz"
   },
   "source": [
    "First add the data to your google drive using the following link:\n",
    "\n",
    "https://drive.google.com/drive/folders/1I0MTQwn2HXquEiXdtntgRggqw6xJr47b?usp=sharing"
   ]
  },
  {
   "cell_type": "code",
   "execution_count": null,
   "metadata": {
    "colab": {
     "base_uri": "https://localhost:8080/"
    },
    "id": "EV0WPAzb8WUA",
    "outputId": "05b40115-4f12-4612-b5ec-a1d6630a9b60"
   },
   "outputs": [
    {
     "name": "stdout",
     "output_type": "stream",
     "text": [
      "Drive already mounted at /content/drive; to attempt to forcibly remount, call drive.mount(\"/content/drive\", force_remount=True).\n"
     ]
    }
   ],
   "source": [
    "from google.colab import drive\n",
    "\n",
    "drive.mount('/content/drive')"
   ]
  },
  {
   "cell_type": "markdown",
   "metadata": {
    "id": "f_4gkoxRLZ5Q"
   },
   "source": [
    "# Installing required packages"
   ]
  },
  {
   "cell_type": "markdown",
   "metadata": {
    "id": "c-ZgdlghL35-"
   },
   "source": [
    "GPU and available memory check"
   ]
  },
  {
   "cell_type": "code",
   "execution_count": 1,
   "metadata": {
    "colab": {
     "base_uri": "https://localhost:8080/"
    },
    "id": "2BdD133t8_yE",
    "outputId": "13299c2d-aee3-4f0d-a5da-0048b183edd7"
   },
   "outputs": [
    {
     "name": "stdout",
     "output_type": "stream",
     "text": [
      "ln: failed to create symbolic link '/usr/bin/nvidia-smi': Permission denied\n",
      "Requirement already satisfied: gputil in /home/tharun/anaconda3/lib/python3.8/site-packages (1.4.0)\n",
      "Requirement already satisfied: psutil in /home/tharun/anaconda3/lib/python3.8/site-packages (5.7.0)\n",
      "Requirement already satisfied: humanize in /home/tharun/anaconda3/lib/python3.8/site-packages (3.1.0)\n",
      "Requirement already satisfied: setuptools in /home/tharun/.local/lib/python3.8/site-packages (from humanize) (50.3.0)\n",
      "Gen RAM Free: 59.2 GB  |     Proc size: 55.2 MB\n",
      "GPU RAM Free: 11018MB | Used: 1MB | Util   0% | Total     11019MB\n"
     ]
    }
   ],
   "source": [
    "# memory footprint support libraries/code\n",
    "!ln -sf /opt/bin/nvidia-smi /usr/bin/nvidia-smi\n",
    "!pip install gputil\n",
    "!pip install psutil\n",
    "!pip install humanize\n",
    "\n",
    "import psutil\n",
    "import humanize\n",
    "import os\n",
    "import GPUtil as GPU\n",
    "\n",
    "GPUs = GPU.getGPUs()\n",
    "# XXX: only one GPU on Colab and isn’t guaranteed\n",
    "gpu = GPUs[0]\n",
    "def printm():\n",
    "    process = psutil.Process(os.getpid())\n",
    "    print(\"Gen RAM Free: \" + humanize.naturalsize(psutil.virtual_memory().available), \" |     Proc size: \" + humanize.naturalsize(process.memory_info().rss))\n",
    "    print(\"GPU RAM Free: {0:.0f}MB | Used: {1:.0f}MB | Util {2:3.0f}% | Total     {3:.0f}MB\".format(gpu.memoryFree, gpu.memoryUsed, gpu.memoryUtil*100, gpu.memoryTotal))\n",
    "printm()"
   ]
  },
  {
   "cell_type": "markdown",
   "metadata": {
    "id": "hxI_bH3nMWwU"
   },
   "source": [
    "Transformers for general purpose NLP models\n",
    "\n",
    "Unidecode for ASCII translation of Unicode text."
   ]
  },
  {
   "cell_type": "code",
   "execution_count": 2,
   "metadata": {
    "colab": {
     "base_uri": "https://localhost:8080/"
    },
    "id": "ProxRZG19EvY",
    "outputId": "bced1958-71b4-40de-b0bd-3a8e1531d16f"
   },
   "outputs": [
    {
     "name": "stdout",
     "output_type": "stream",
     "text": [
      "Requirement already satisfied: transformers in /home/tharun/anaconda3/lib/python3.8/site-packages (3.4.0)\n",
      "Requirement already satisfied: requests in /home/tharun/anaconda3/lib/python3.8/site-packages (from transformers) (2.24.0)\n",
      "Requirement already satisfied: numpy in /home/tharun/anaconda3/lib/python3.8/site-packages (from transformers) (1.18.5)\n",
      "Requirement already satisfied: sacremoses in /home/tharun/anaconda3/lib/python3.8/site-packages (from transformers) (0.0.43)\n",
      "Requirement already satisfied: sentencepiece!=0.1.92 in /home/tharun/anaconda3/lib/python3.8/site-packages (from transformers) (0.1.94)\n",
      "Requirement already satisfied: tokenizers==0.9.2 in /home/tharun/anaconda3/lib/python3.8/site-packages (from transformers) (0.9.2)\n",
      "Requirement already satisfied: tqdm>=4.27 in /home/tharun/anaconda3/lib/python3.8/site-packages (from transformers) (4.47.0)\n",
      "Requirement already satisfied: filelock in /home/tharun/anaconda3/lib/python3.8/site-packages (from transformers) (3.0.12)\n",
      "Requirement already satisfied: regex!=2019.12.17 in /home/tharun/anaconda3/lib/python3.8/site-packages (from transformers) (2020.6.8)\n",
      "Requirement already satisfied: protobuf in /home/tharun/anaconda3/lib/python3.8/site-packages (from transformers) (3.13.0)\n",
      "Requirement already satisfied: packaging in /home/tharun/anaconda3/lib/python3.8/site-packages (from transformers) (20.4)\n",
      "Requirement already satisfied: urllib3!=1.25.0,!=1.25.1,<1.26,>=1.21.1 in /home/tharun/anaconda3/lib/python3.8/site-packages (from requests->transformers) (1.25.10)\n",
      "Requirement already satisfied: certifi>=2017.4.17 in /home/tharun/anaconda3/lib/python3.8/site-packages (from requests->transformers) (2020.6.20)\n",
      "Requirement already satisfied: idna<3,>=2.5 in /home/tharun/anaconda3/lib/python3.8/site-packages (from requests->transformers) (2.10)\n",
      "Requirement already satisfied: chardet<4,>=3.0.2 in /home/tharun/anaconda3/lib/python3.8/site-packages (from requests->transformers) (3.0.4)\n",
      "Requirement already satisfied: six in /home/tharun/anaconda3/lib/python3.8/site-packages (from sacremoses->transformers) (1.15.0)\n",
      "Requirement already satisfied: click in /home/tharun/anaconda3/lib/python3.8/site-packages (from sacremoses->transformers) (7.1.2)\n",
      "Requirement already satisfied: joblib in /home/tharun/anaconda3/lib/python3.8/site-packages (from sacremoses->transformers) (0.16.0)\n",
      "Requirement already satisfied: setuptools in /home/tharun/.local/lib/python3.8/site-packages (from protobuf->transformers) (50.3.0)\n",
      "Requirement already satisfied: pyparsing>=2.0.2 in /home/tharun/anaconda3/lib/python3.8/site-packages (from packaging->transformers) (2.4.7)\n",
      "Requirement already satisfied: unidecode in /home/tharun/anaconda3/lib/python3.8/site-packages (1.1.1)\n"
     ]
    }
   ],
   "source": [
    "!pip3 install transformers\n",
    "!pip3 install unidecode"
   ]
  },
  {
   "cell_type": "markdown",
   "metadata": {
    "id": "aaR1kCaX9H1H"
   },
   "source": [
    "# Importing Libraries"
   ]
  },
  {
   "cell_type": "code",
   "execution_count": 3,
   "metadata": {
    "id": "udaVulil9Jo6"
   },
   "outputs": [],
   "source": [
    "import numpy as np\n",
    "import pandas as pd\n",
    "import os\n",
    "from os import listdir\n",
    "from os.path import join\n",
    "import unidecode\n",
    "import re\n",
    "import logging\n",
    "from tqdm.notebook import tnrange\n",
    "import glob\n",
    "import json\n",
    "\n",
    "#For ploting results\n",
    "import matplotlib.pyplot as plt\n",
    "\n",
    "# DL Libraries\n",
    "from transformers import BertModel, AdamW, BertTokenizer, BertConfig, RobertaTokenizer, RobertaModel\n",
    "from keras.preprocessing.sequence import pad_sequences\n",
    "import torch\n",
    "import torch.nn as nn\n",
    "from torch.utils.data import (DataLoader, RandomSampler, SequentialSampler, TensorDataset)\n",
    "from sklearn.metrics import classification_report, accuracy_score\n",
    "from sklearn.model_selection import train_test_split\n",
    "from scipy.stats import pearsonr\n",
    "from sklearn.utils import shuffle\n",
    "from sklearn.metrics import mean_squared_error\n",
    "from sklearn.metrics import r2_score"
   ]
  },
  {
   "cell_type": "code",
   "execution_count": 4,
   "metadata": {
    "colab": {
     "base_uri": "https://localhost:8080/"
    },
    "id": "G4OvOrtF9MKU",
    "outputId": "d8f471c7-b9d3-4936-b14c-ca436d474ffd"
   },
   "outputs": [
    {
     "name": "stdout",
     "output_type": "stream",
     "text": [
      "device: cuda n_gpu: 2\n"
     ]
    }
   ],
   "source": [
    "device = torch.device(\"cuda\" if torch.cuda.is_available() else \"cpu\")\n",
    "n_gpu = torch.cuda.device_count()\n",
    "print(\"device: {} n_gpu: {}\".format(device, n_gpu)) "
   ]
  },
  {
   "cell_type": "code",
   "execution_count": 5,
   "metadata": {
    "colab": {
     "base_uri": "https://localhost:8080/"
    },
    "id": "ZL5xOuWM9OKP",
    "outputId": "03adb225-d9aa-45cd-b690-98704ec2a22f"
   },
   "outputs": [
    {
     "name": "stdout",
     "output_type": "stream",
     "text": [
      "<Logger __main__ (INFO)>\n"
     ]
    }
   ],
   "source": [
    "logging.basicConfig(format = '%(asctime)s - %(levelname)s - %(name)s -   %(message)s',\n",
    "                    datefmt = '%m/%d/%Y %H:%M:%S',\n",
    "                    level = logging.INFO)\n",
    "logger = logging.getLogger(__name__)\n",
    "print(logger)"
   ]
  },
  {
   "cell_type": "markdown",
   "metadata": {
    "id": "-51uiEKJ9SGG"
   },
   "source": [
    "#Data Processing"
   ]
  },
  {
   "cell_type": "markdown",
   "metadata": {
    "id": "aPnAk7bgMtiI"
   },
   "source": [
    "Function to tokenize input dataframe (Query, Sentence, Label) and return tensorDatset with corresponding input_id, attention_masks and labels as a PyTorch dataloader. "
   ]
  },
  {
   "cell_type": "code",
   "execution_count": 6,
   "metadata": {
    "id": "B9ebvwdy9bPc"
   },
   "outputs": [],
   "source": [
    "def create_dataloader(tokenizer, df):\n",
    "    input_ids= list()\n",
    "    attention_masks= list()\n",
    "\n",
    "    print(\"Shape: {}\".format(df.shape))\n",
    "\n",
    "    special_sentences_1 = [sentence for i, sentence in enumerate(df.question)]\n",
    "    special_sentences_2 = [\" [SEP] \" + str(sentence) for i, sentence in enumerate(df.sentence)]\n",
    "    special_sentences = [i + j for i, j in zip(special_sentences_1, special_sentences_2)]\n",
    "\n",
    "    for sentence in special_sentences:\n",
    "      encoded_text = tokenizer.encode_plus(sentence, max_length=512, add_special_tokens=True, return_token_type_ids=False, \n",
    "                                       padding='max_length', return_attention_mask=True, truncation=True)\n",
    "      input_ids.append(encoded_text['input_ids'])\n",
    "      attention_masks.append(encoded_text['attention_mask'])\n",
    "\n",
    "    inputs = torch.tensor(input_ids).to(device)\n",
    "    masks = torch.tensor(attention_masks).to(device)\n",
    "    gold_labels = torch.tensor(df.sia_score.tolist()).to(device)\n",
    "  \n",
    "    data = TensorDataset(inputs, masks, gold_labels)\n",
    "    sampler = RandomSampler(data)\n",
    "    dataloader = DataLoader(data, sampler=sampler, batch_size=4)\n",
    "\n",
    "    return dataloader"
   ]
  },
  {
   "cell_type": "markdown",
   "metadata": {
    "id": "HVf0RoytN-Qz"
   },
   "source": [
    "To load the dataset from google drive.\n",
    "\n",
    "**!!! Please change the directory accordingly !!!**\n",
    "\n",
    "Performing the train-test split after shuffling the dataset."
   ]
  },
  {
   "cell_type": "code",
   "execution_count": 7,
   "metadata": {
    "id": "W4aFg_k79ihP"
   },
   "outputs": [],
   "source": [
    "# load_data= '/content/drive/My Drive/QASC-DATASET/data/QASC_Dataset'\n",
    "load_data = '/home/tharun/Downloads/Gouthami/NLP_Project/Training_Data/Submission/output_df'\n",
    "\n",
    "data_df= pd.read_csv(join(load_data,'result_exact_ans_0_5000.csv'))\n",
    "data_df.head()\n",
    "data_df= shuffle(data_df)\n",
    "\n",
    "train_df, test_df= train_test_split(data_df, test_size=0.2)\n"
   ]
  },
  {
   "cell_type": "code",
   "execution_count": 8,
   "metadata": {},
   "outputs": [
    {
     "name": "stdout",
     "output_type": "stream",
     "text": [
      "length 49519\n"
     ]
    }
   ],
   "source": [
    "data_df.head()\n",
    "print(\"length\",len(data_df))"
   ]
  },
  {
   "cell_type": "markdown",
   "metadata": {
    "id": "Hme5lMASO0ya"
   },
   "source": [
    "Loading pretrained 'roberta-base' tokenizer and creating dataloader for train & test dataframes."
   ]
  },
  {
   "cell_type": "code",
   "execution_count": 9,
   "metadata": {
    "colab": {
     "base_uri": "https://localhost:8080/",
     "height": 217,
     "referenced_widgets": [
      "290cad4c2b8047e085a2552001358aae",
      "f5799af5c4a04afaa3337e72b75426df",
      "18d7cc97324544f1adf231b4fc7b57d7",
      "8eecf055e0d64ab7b41249f71aeae4dc",
      "d92c86254854431c9004add998958001",
      "f185c36a3e7a472aa9f87f8f2104affe",
      "648a2614f92946eaaaf2972631c1abda",
      "2e610dc43d4a4593ac30c89113596237",
      "1c20f897ef8541a3ade9b69312d907c4",
      "a494798c400948158e604f4a036a9d0a",
      "ec9ace31262840eeb164c44d5c3c1ec5",
      "ad85a9c24f554eb8b8c72e439f26263e",
      "0102ca3dc5484697b95469d1ff79cf1f",
      "57328f4d02dd4ec2b0812a65f8a2373b",
      "d0ea5ffa85f74a1c8e58a7db9a60381c",
      "756814c4f6c042cd87752c7247735da5"
     ]
    },
    "id": "EGwP2HAe-XOt",
    "outputId": "6b8cf9c1-7c8e-4a21-bf92-4fb6fe8225ca"
   },
   "outputs": [
    {
     "name": "stdout",
     "output_type": "stream",
     "text": [
      "Shape: (39615, 4)\n",
      "Shape: (9904, 4)\n"
     ]
    }
   ],
   "source": [
    "#Dataloaders\n",
    "tokenizer = RobertaTokenizer.from_pretrained('roberta-base')\n",
    "train_dataloader= create_dataloader(tokenizer, train_df)\n",
    "test_dataloader= create_dataloader(tokenizer, test_df)"
   ]
  },
  {
   "cell_type": "markdown",
   "metadata": {
    "id": "lXtqwzjtHMM_"
   },
   "source": [
    "# Model"
   ]
  },
  {
   "cell_type": "markdown",
   "metadata": {
    "id": "IxGD23NFQOe2"
   },
   "source": [
    "Model: 'roberta-base' with a Linear layer on top to generate SIA scores."
   ]
  },
  {
   "cell_type": "code",
   "execution_count": 10,
   "metadata": {
    "id": "objCF2naHNeR"
   },
   "outputs": [],
   "source": [
    "#Class for Regression\n",
    "class Regressor(nn.Module):\n",
    "\n",
    "  def __init__(self):\n",
    "    super(Regressor, self).__init__()\n",
    "    self.bert = RobertaModel.from_pretrained('roberta-base')\n",
    "    self.out = nn.Linear(self.bert.config.hidden_size, 1)\n",
    "\n",
    "  def forward(self, input_ids, attention_mask):\n",
    "    output, pooler_out = self.bert(input_ids=input_ids, attention_mask=attention_mask)\n",
    "    score= self.out(pooler_out)\n",
    "    return score\n",
    "    "
   ]
  },
  {
   "cell_type": "markdown",
   "metadata": {
    "id": "Y0lUjY7RPbwt"
   },
   "source": [
    "Model Initialization with:\n",
    "\n",
    "* 10 epochs\n",
    "\n",
    "* 'AdamW' optimizer\n",
    "\n",
    "* Mean Squared Error (MSE) Loss function"
   ]
  },
  {
   "cell_type": "code",
   "execution_count": 11,
   "metadata": {
    "colab": {
     "background_save": true,
     "base_uri": "https://localhost:8080/",
     "height": 149,
     "referenced_widgets": [
      "e6714630de224fca91c83cc7de3967b3",
      "054e1fa87fd545b3884ca1389b2c88ed",
      "588c2ef6c0a74a0c8ff69ff9f7b4fd01",
      "d8c8074374cb46128c5fc8049ea0d206",
      "bd58684840a248feac3e68b109bcdcb9",
      "46579d9796df4524a29a0f46277b5264",
      "93749318b59745a1bd641521238fa6d8",
      "f4d44cade68840cab9fb6c6bc6bd7b2e",
      "85a37de524974cd7aab344d7b74c00e7",
      "ce05de50c119433d914e2451eda9f121",
      "1116938eddea4cdfb04836aec9b3046d",
      "e0408e545bb64c138ba3c3d24bb99466",
      "4850355d0fd744e585b865b4c84302c2",
      "904101d0d97344dd97db54efbe5be40d",
      "71f3f2b35cdf44f5afb0b406b2d9244a",
      "38140ef506a04f72a4f7529fb98f4275"
     ]
    },
    "id": "n2nHjhrpHV3b",
    "outputId": "02307f7b-c1e6-4ebc-ad28-7ae147efd10e"
   },
   "outputs": [],
   "source": [
    "#Model Intialization\n",
    "\n",
    "epochs=10\n",
    "\n",
    "#Load Model\n",
    "model= Regressor()\n",
    "model.to(device)\n",
    "\n",
    "# Prepare optimizer\n",
    "optimizer = AdamW(model.parameters(),lr=2e-5)\n",
    "\n",
    "#Loss Function\n",
    "mse_loss= nn.MSELoss().to(device)"
   ]
  },
  {
   "cell_type": "markdown",
   "metadata": {
    "id": "pQ2Y6ATjHdFL"
   },
   "source": [
    "#Training and Evaluation"
   ]
  },
  {
   "cell_type": "markdown",
   "metadata": {
    "id": "FDWWMBZtQp0N"
   },
   "source": [
    "Creating output directory:\n",
    "\n",
    "model path: '/content/drive/My Drive/project_nlp/sia_experiment/model1'\n",
    "\n",
    "result path: '/content/drive/My Drive/project_nlp/sia_experiment/results1'"
   ]
  },
  {
   "cell_type": "code",
   "execution_count": 12,
   "metadata": {
    "id": "XorrsE4iHfNz"
   },
   "outputs": [],
   "source": [
    "output_dir= '/home/tharun/Downloads/Gouthami/NLP_Project/Training_Data/Submission/roberta_training/model'\n",
    "output_result= '/home/tharun/Downloads/Gouthami/NLP_Project/Training_Data/Submission/roberta_training/output'\n",
    "\n",
    "if not os.path.exists(output_dir):\n",
    "  os.makedirs(output_dir)\n",
    "\n",
    "if not os.path.exists(output_result):\n",
    "  os.makedirs(output_result)"
   ]
  },
  {
   "cell_type": "markdown",
   "metadata": {
    "id": "B_93zgQbRRmm"
   },
   "source": [
    "Model training followed by model evaluation"
   ]
  },
  {
   "cell_type": "code",
   "execution_count": 13,
   "metadata": {
    "colab": {
     "base_uri": "https://localhost:8080/",
     "height": 242,
     "referenced_widgets": [
      "2e42fe77acb241f2b7a49216bedf0401",
      "7f38920c3e1b4c5d8c3c3ad077ab2f45",
      "dd6289309fbf4029b3fbb759409801ef",
      "9825078ac2d0458b8d12b8d8fb1a7337",
      "3415c236fa94423fb619bf0d0bd8a565",
      "27686cb81ffe4c89bf6165a2b0958d9e",
      "5db9ee841f4f4773b046759d6efba624",
      "4305f286993e464ead7a64a009b00d75"
     ]
    },
    "id": "igAHY2yyH13H",
    "outputId": "83f6472c-d7fb-4b43-b7af-54cf8d91303a"
   },
   "outputs": [
    {
     "data": {
      "application/vnd.jupyter.widget-view+json": {
       "model_id": "cd38af99a19a4bfd9ad7d58eb3ac8aa5",
       "version_major": 2,
       "version_minor": 0
      },
      "text/plain": [
       "HBox(children=(FloatProgress(value=0.0, description='Epochs', max=10.0, style=ProgressStyle(description_width=…"
      ]
     },
     "metadata": {},
     "output_type": "display_data"
    },
    {
     "name": "stderr",
     "output_type": "stream",
     "text": [
      "11/26/2020 12:18:02 - INFO - __main__ -   Running for iteration: 1\n"
     ]
    },
    {
     "name": "stdout",
     "output_type": "stream",
     "text": [
      "{'loss': 0.3889545313036435, 'PCC': 0.8298438385509141, 'RMSE': 0.6236691, 'R2_score': 0.6882166489890609}\n",
      "Running evaluation for epoch: 1\n"
     ]
    },
    {
     "name": "stderr",
     "output_type": "stream",
     "text": [
      "11/26/2020 12:48:10 - INFO - __main__ -   Running for iteration: 2\n"
     ]
    },
    {
     "name": "stdout",
     "output_type": "stream",
     "text": [
      "{'PCC': 0.9016309101879774, 'RMSE': '0.49835458', 'R2_score': '0.8025171546105003'}\n",
      "{'loss': 0.24636793478686875, 'PCC': 0.8958576792481245, 'RMSE': 0.4963604, 'R2_score': 0.8025128880323512}\n",
      "Running evaluation for epoch: 2\n"
     ]
    },
    {
     "name": "stderr",
     "output_type": "stream",
     "text": [
      "11/26/2020 13:18:18 - INFO - __main__ -   Running for iteration: 3\n"
     ]
    },
    {
     "name": "stdout",
     "output_type": "stream",
     "text": [
      "{'PCC': 0.9082992037802233, 'RMSE': '0.4986085', 'R2_score': '0.8023158772283197'}\n",
      "{'loss': 0.21142225470271298, 'PCC': 0.9113472718717065, 'RMSE': 0.45980796, 'R2_score': 0.830528176750083}\n",
      "Running evaluation for epoch: 3\n"
     ]
    },
    {
     "name": "stderr",
     "output_type": "stream",
     "text": [
      "11/26/2020 13:48:33 - INFO - __main__ -   Running for iteration: 4\n"
     ]
    },
    {
     "name": "stdout",
     "output_type": "stream",
     "text": [
      "{'PCC': 0.9225527918919763, 'RMSE': '0.43570897', 'R2_score': '0.8490457164086676'}\n",
      "{'loss': 0.18935603993387262, 'PCC': 0.9209956558550079, 'RMSE': 0.43515494, 'R2_score': 0.8482137756243184}\n",
      "Running evaluation for epoch: 4\n"
     ]
    },
    {
     "name": "stderr",
     "output_type": "stream",
     "text": [
      "11/26/2020 14:18:41 - INFO - __main__ -   Running for iteration: 5\n"
     ]
    },
    {
     "name": "stdout",
     "output_type": "stream",
     "text": [
      "{'PCC': 0.9167364509608176, 'RMSE': '0.4720114', 'R2_score': '0.8228433542136016'}\n",
      "{'loss': 0.16408932274935772, 'PCC': 0.931921166103721, 'RMSE': 0.40508252, 'R2_score': 0.8684679611717238}\n",
      "Running evaluation for epoch: 5\n"
     ]
    },
    {
     "name": "stderr",
     "output_type": "stream",
     "text": [
      "11/26/2020 14:48:54 - INFO - __main__ -   Running for iteration: 6\n"
     ]
    },
    {
     "name": "stdout",
     "output_type": "stream",
     "text": [
      "{'PCC': 0.9257493697866076, 'RMSE': '0.4352826', 'R2_score': '0.8493410098562046'}\n",
      "{'loss': 0.15918844906906068, 'PCC': 0.9340271774337875, 'RMSE': 0.398988, 'R2_score': 0.8723960064089205}\n",
      "Running evaluation for epoch: 6\n"
     ]
    },
    {
     "name": "stderr",
     "output_type": "stream",
     "text": [
      "11/26/2020 15:19:08 - INFO - __main__ -   Running for iteration: 7\n"
     ]
    },
    {
     "name": "stdout",
     "output_type": "stream",
     "text": [
      "{'PCC': 0.9223223786525179, 'RMSE': '0.43848526', 'R2_score': '0.8471158464847637'}\n",
      "{'loss': 0.14251308864307796, 'PCC': 0.9411533708537055, 'RMSE': 0.37751237, 'R2_score': 0.8857629732298671}\n",
      "Running evaluation for epoch: 7\n"
     ]
    },
    {
     "name": "stderr",
     "output_type": "stream",
     "text": [
      "11/26/2020 15:49:18 - INFO - __main__ -   Running for iteration: 8\n"
     ]
    },
    {
     "name": "stdout",
     "output_type": "stream",
     "text": [
      "{'PCC': 0.923060956151966, 'RMSE': '0.44209263', 'R2_score': '0.8445899692074882'}\n",
      "{'loss': 0.1390465658224385, 'PCC': 0.9426278737137489, 'RMSE': 0.37289307, 'R2_score': 0.8885415069073913}\n",
      "Running evaluation for epoch: 8\n"
     ]
    },
    {
     "name": "stderr",
     "output_type": "stream",
     "text": [
      "11/26/2020 16:19:32 - INFO - __main__ -   Running for iteration: 9\n"
     ]
    },
    {
     "name": "stdout",
     "output_type": "stream",
     "text": [
      "{'PCC': 0.9093623971611708, 'RMSE': '0.48283246', 'R2_score': '0.8146274701095978'}\n",
      "{'loss': 0.12822097885187284, 'PCC': 0.9472198816243766, 'RMSE': 0.35807908, 'R2_score': 0.897221472778468}\n",
      "Running evaluation for epoch: 9\n"
     ]
    },
    {
     "name": "stderr",
     "output_type": "stream",
     "text": [
      "11/26/2020 16:49:47 - INFO - __main__ -   Running for iteration: 10\n"
     ]
    },
    {
     "name": "stdout",
     "output_type": "stream",
     "text": [
      "{'PCC': 0.9241115098680814, 'RMSE': '0.44150466', 'R2_score': '0.8450030972277631'}\n",
      "{'loss': 0.1539306600475125, 'PCC': 0.93627719819775, 'RMSE': 0.3923448, 'R2_score': 0.8766098793594983}\n",
      "Running evaluation for epoch: 10\n",
      "{'PCC': 0.9265686239584561, 'RMSE': '0.4241227', 'R2_score': '0.856967239017703'}\n",
      "\n"
     ]
    }
   ],
   "source": [
    "for iteration in tnrange(epochs, desc='Epochs'):\n",
    "  model.train()\n",
    "  logger.info(\"Running for iteration: {}\".format(iteration+1))\n",
    "\n",
    "  training_loss, training_steps=0,0\n",
    "  true_labels, predicted_labels= list(), list()\n",
    "  \n",
    "  for step, batch in enumerate(train_dataloader):\n",
    "    batch = tuple(t.to(device) for t in batch)\n",
    "    ip_ids, masks, gold_labels= batch\n",
    "    score = model(ip_ids, attention_mask=masks)\n",
    "    score = score.squeeze(1)\n",
    "    loss= mse_loss(score, gold_labels.float())\n",
    "    loss.backward()\n",
    "    optimizer.step()\n",
    "    optimizer.zero_grad()\n",
    "    training_loss+=loss.item()\n",
    "    training_steps+=1\n",
    "    if (step+1)%10000 == 0:\n",
    "      print(step+1)\n",
    "\n",
    "    true_labels.extend(gold_labels.cpu().numpy())\n",
    "    predicted_labels.extend(score.detach().cpu().numpy())\n",
    "  \n",
    "  training_loss_for_epoch= training_loss/training_steps\n",
    "  pcc= pearsonr(true_labels, predicted_labels)\n",
    "  rmse= mean_squared_error(true_labels, predicted_labels, squared=False)\n",
    "  accuracy=r2_score(true_labels, predicted_labels)\n",
    "  result = {'loss': training_loss_for_epoch, 'PCC': pcc[0], 'RMSE':rmse, 'R2_score':accuracy}\n",
    "  print(result)\n",
    "\n",
    "  model_to_save = model.bert.module if hasattr(model.bert, 'module') else model.bert\n",
    "  model_to_save.save_pretrained(output_dir)\n",
    "\n",
    "  torch.save(model.out.state_dict(), join(output_dir, 'model_state.bin'))\n",
    "\n",
    "  #Testing\n",
    "  print(\"Running evaluation for epoch: {}\".format(iteration+1))\n",
    "\n",
    "  true_labels, predicted_labels= list(), list()\n",
    "  model.eval()\n",
    "  with torch.no_grad():\n",
    "    for step, batch in enumerate(test_dataloader):\n",
    "      batch = tuple(t.to(device) for t in batch)\n",
    "      ip_ids, masks, gold_labels= batch\n",
    "      score = model(ip_ids, attention_mask=masks)\n",
    "      score = score.squeeze(1)\n",
    "\n",
    "      true_labels.extend(gold_labels.cpu().numpy())\n",
    "      predicted_labels.extend(score.detach().cpu().numpy())\n",
    "  \n",
    "  pcc= pearsonr(true_labels, predicted_labels)\n",
    "  rmse= mean_squared_error(true_labels, predicted_labels, squared=False)\n",
    "  accuracy=r2_score(true_labels, predicted_labels)\n",
    "  test_report= {'PCC': pcc[0], 'RMSE':str(rmse), 'R2_score':str(accuracy)}\n",
    "  print(test_report)\n",
    "\n",
    "  with open(join(output_result, 'result_'+str(iteration+1)+'.json'), 'w') as fp:\n",
    "    json.dump(test_report, fp)"
   ]
  },
  {
   "cell_type": "markdown",
   "metadata": {
    "id": "LcvxpXXXkfsy"
   },
   "source": [
    "# Visualizing the results"
   ]
  },
  {
   "cell_type": "code",
   "execution_count": 15,
   "metadata": {
    "id": "amWhbDQmkbx5"
   },
   "outputs": [
    {
     "name": "stdout",
     "output_type": "stream",
     "text": [
      "/home/tharun/Downloads/Gouthami/NLP_Project/Training_Data/Submission/roberta_training/output/result_7.json\n",
      "/home/tharun/Downloads/Gouthami/NLP_Project/Training_Data/Submission/roberta_training/output/result_10.json\n",
      "/home/tharun/Downloads/Gouthami/NLP_Project/Training_Data/Submission/roberta_training/output/result_5.json\n",
      "/home/tharun/Downloads/Gouthami/NLP_Project/Training_Data/Submission/roberta_training/output/result_1.json\n",
      "/home/tharun/Downloads/Gouthami/NLP_Project/Training_Data/Submission/roberta_training/output/result_6.json\n",
      "/home/tharun/Downloads/Gouthami/NLP_Project/Training_Data/Submission/roberta_training/output/result_4.json\n",
      "/home/tharun/Downloads/Gouthami/NLP_Project/Training_Data/Submission/roberta_training/output/result_2.json\n",
      "/home/tharun/Downloads/Gouthami/NLP_Project/Training_Data/Submission/roberta_training/output/result_9.json\n",
      "/home/tharun/Downloads/Gouthami/NLP_Project/Training_Data/Submission/roberta_training/output/result_3.json\n",
      "/home/tharun/Downloads/Gouthami/NLP_Project/Training_Data/Submission/roberta_training/output/result_8.json\n"
     ]
    }
   ],
   "source": [
    "filepaths= glob.glob(join(output_result,'*.json'))\n",
    "\n",
    "pcc, rmse= list(), list()\n",
    "\n",
    "for path in filepaths:\n",
    "  print(path)\n",
    "  f = open(path,'r')\n",
    "  data = json.load(f)\n",
    "  pcc.append(data['PCC'])  \n",
    "  rmse.append(float(data['RMSE']))"
   ]
  },
  {
   "cell_type": "code",
   "execution_count": 16,
   "metadata": {
    "id": "P2P0TkTekmsO"
   },
   "outputs": [
    {
     "data": {
      "image/png": "[encoded data removed]",
      "text/plain": [
       "<Figure size 432x288 with 1 Axes>"
      ]
     },
     "metadata": {
      "needs_background": "light"
     },
     "output_type": "display_data"
    },
    {
     "data": {
      "image/png": "[encoded data removed]",
      "text/plain": [
       "<Figure size 432x288 with 1 Axes>"
      ]
     },
     "metadata": {
      "needs_background": "light"
     },
     "output_type": "display_data"
    }
   ],
   "source": [
    "#plot rmse\n",
    "plt.plot(rmse)\n",
    "plt.ylabel('RMSE')\n",
    "plt.xticks(range(1, 11))\n",
    "plt.xlabel('Epochs')\n",
    "plt.savefig(join(output_result, 'rmse.png'))\n",
    "plt.show()\n",
    "\n",
    "#plot\n",
    "plt.plot(pcc)\n",
    "plt.ylabel('PCC')\n",
    "plt.xticks(range(1, 11))\n",
    "plt.ylim(0, 1)\n",
    "plt.xlabel('Epochs')\n",
    "plt.savefig(join(output_result, 'pcc.png'))\n",
    "plt.show() "
   ]
  },
  {
   "cell_type": "code",
   "execution_count": null,
   "metadata": {
    "id": "oKPcQvZuErKl"
   },
   "outputs": [],
   "source": []
  }
 ],
 "metadata": {
  "accelerator": "GPU",
  "colab": {
   "collapsed_sections": [],
   "machine_shape": "hm",
   "name": "Copy of sia_roberta.ipynb",
   "provenance": [],
   "toc_visible": true
  },
  "kernelspec": {
   "display_name": "Python 3",
   "language": "python",
   "name": "python3"
  },
  "language_info": {
   "codemirror_mode": {
    "name": "ipython",
    "version": 3
   },
   "file_extension": ".py",
   "mimetype": "text/x-python",
   "name": "python",
   "nbconvert_exporter": "python",
   "pygments_lexer": "ipython3",
   "version": "3.8.3"
  },
  "widgets": {
   "application/vnd.jupyter.widget-state+json": {
    "0102ca3dc5484697b95469d1ff79cf1f": {
     "model_module": "@jupyter-widgets/base",
     "model_name": "LayoutModel",
     "state": {
      "_model_module": "@jupyter-widgets/base",
      "_model_module_version": "1.2.0",
      "_model_name": "LayoutModel",
      "_view_count": null,
      "_view_module": "@jupyter-widgets/base",
      "_view_module_version": "1.2.0",
      "_view_name": "LayoutView",
      "align_content": null,
      "align_items": null,
      "align_self": null,
      "border": null,
      "bottom": null,
      "display": null,
      "flex": null,
      "flex_flow": null,
      "grid_area": null,
      "grid_auto_columns": null,
      "grid_auto_flow": null,
      "grid_auto_rows": null,
      "grid_column": null,
      "grid_gap": null,
      "grid_row": null,
      "grid_template_areas": null,
      "grid_template_columns": null,
      "grid_template_rows": null,
      "height": null,
      "justify_content": null,
      "justify_items": null,
      "left": null,
      "margin": null,
      "max_height": null,
      "max_width": null,
      "min_height": null,
      "min_width": null,
      "object_fit": null,
      "object_position": null,
      "order": null,
      "overflow": null,
      "overflow_x": null,
      "overflow_y": null,
      "padding": null,
      "right": null,
      "top": null,
      "visibility": null,
      "width": null
     }
    },
    "054e1fa87fd545b3884ca1389b2c88ed": {
     "model_module": "@jupyter-widgets/controls",
     "model_name": "FloatProgressModel",
     "state": {
      "_dom_classes": [],
      "_model_module": "@jupyter-widgets/controls",
      "_model_module_version": "1.5.0",
      "_model_name": "FloatProgressModel",
      "_view_count": null,
      "_view_module": "@jupyter-widgets/controls",
      "_view_module_version": "1.5.0",
      "_view_name": "ProgressView",
      "bar_style": "success",
      "description": "Downloading: 100%",
      "description_tooltip": null,
      "layout": "IPY_MODEL_bd58684840a248feac3e68b109bcdcb9",
      "max": 481,
      "min": 0,
      "orientation": "horizontal",
      "style": "IPY_MODEL_46579d9796df4524a29a0f46277b5264",
      "value": 481
     }
    },
    "1116938eddea4cdfb04836aec9b3046d": {
     "model_module": "@jupyter-widgets/controls",
     "model_name": "HTMLModel",
     "state": {
      "_dom_classes": [],
      "_model_module": "@jupyter-widgets/controls",
      "_model_module_version": "1.5.0",
      "_model_name": "HTMLModel",
      "_view_count": null,
      "_view_module": "@jupyter-widgets/controls",
      "_view_module_version": "1.5.0",
      "_view_name": "HTMLView",
      "description": "",
      "description_tooltip": null,
      "layout": "IPY_MODEL_71f3f2b35cdf44f5afb0b406b2d9244a",
      "placeholder": "​",
      "style": "IPY_MODEL_38140ef506a04f72a4f7529fb98f4275",
      "value": " 187M/501M [00:14&lt;00:25, 12.4MB/s]"
     }
    },
    "18d7cc97324544f1adf231b4fc7b57d7": {
     "model_module": "@jupyter-widgets/controls",
     "model_name": "HTMLModel",
     "state": {
      "_dom_classes": [],
      "_model_module": "@jupyter-widgets/controls",
      "_model_module_version": "1.5.0",
      "_model_name": "HTMLModel",
      "_view_count": null,
      "_view_module": "@jupyter-widgets/controls",
      "_view_module_version": "1.5.0",
      "_view_name": "HTMLView",
      "description": "",
      "description_tooltip": null,
      "layout": "IPY_MODEL_648a2614f92946eaaaf2972631c1abda",
      "placeholder": "​",
      "style": "IPY_MODEL_2e610dc43d4a4593ac30c89113596237",
      "value": " 899k/899k [00:01&lt;00:00, 866kB/s]"
     }
    },
    "1c20f897ef8541a3ade9b69312d907c4": {
     "model_module": "@jupyter-widgets/controls",
     "model_name": "HBoxModel",
     "state": {
      "_dom_classes": [],
      "_model_module": "@jupyter-widgets/controls",
      "_model_module_version": "1.5.0",
      "_model_name": "HBoxModel",
      "_view_count": null,
      "_view_module": "@jupyter-widgets/controls",
      "_view_module_version": "1.5.0",
      "_view_name": "HBoxView",
      "box_style": "",
      "children": [
       "IPY_MODEL_a494798c400948158e604f4a036a9d0a",
       "IPY_MODEL_ec9ace31262840eeb164c44d5c3c1ec5"
      ],
      "layout": "IPY_MODEL_ad85a9c24f554eb8b8c72e439f26263e"
     }
    },
    "27686cb81ffe4c89bf6165a2b0958d9e": {
     "model_module": "@jupyter-widgets/controls",
     "model_name": "ProgressStyleModel",
     "state": {
      "_model_module": "@jupyter-widgets/controls",
      "_model_module_version": "1.5.0",
      "_model_name": "ProgressStyleModel",
      "_view_count": null,
      "_view_module": "@jupyter-widgets/base",
      "_view_module_version": "1.2.0",
      "_view_name": "StyleView",
      "bar_color": null,
      "description_width": "initial"
     }
    },
    "290cad4c2b8047e085a2552001358aae": {
     "model_module": "@jupyter-widgets/controls",
     "model_name": "HBoxModel",
     "state": {
      "_dom_classes": [],
      "_model_module": "@jupyter-widgets/controls",
      "_model_module_version": "1.5.0",
      "_model_name": "HBoxModel",
      "_view_count": null,
      "_view_module": "@jupyter-widgets/controls",
      "_view_module_version": "1.5.0",
      "_view_name": "HBoxView",
      "box_style": "",
      "children": [
       "IPY_MODEL_f5799af5c4a04afaa3337e72b75426df",
       "IPY_MODEL_18d7cc97324544f1adf231b4fc7b57d7"
      ],
      "layout": "IPY_MODEL_8eecf055e0d64ab7b41249f71aeae4dc"
     }
    },
    "2e42fe77acb241f2b7a49216bedf0401": {
     "model_module": "@jupyter-widgets/controls",
     "model_name": "HBoxModel",
     "state": {
      "_dom_classes": [],
      "_model_module": "@jupyter-widgets/controls",
      "_model_module_version": "1.5.0",
      "_model_name": "HBoxModel",
      "_view_count": null,
      "_view_module": "@jupyter-widgets/controls",
      "_view_module_version": "1.5.0",
      "_view_name": "HBoxView",
      "box_style": "",
      "children": [
       "IPY_MODEL_7f38920c3e1b4c5d8c3c3ad077ab2f45",
       "IPY_MODEL_dd6289309fbf4029b3fbb759409801ef"
      ],
      "layout": "IPY_MODEL_9825078ac2d0458b8d12b8d8fb1a7337"
     }
    },
    "2e610dc43d4a4593ac30c89113596237": {
     "model_module": "@jupyter-widgets/controls",
     "model_name": "DescriptionStyleModel",
     "state": {
      "_model_module": "@jupyter-widgets/controls",
      "_model_module_version": "1.5.0",
      "_model_name": "DescriptionStyleModel",
      "_view_count": null,
      "_view_module": "@jupyter-widgets/base",
      "_view_module_version": "1.2.0",
      "_view_name": "StyleView",
      "description_width": ""
     }
    },
    "3415c236fa94423fb619bf0d0bd8a565": {
     "model_module": "@jupyter-widgets/base",
     "model_name": "LayoutModel",
     "state": {
      "_model_module": "@jupyter-widgets/base",
      "_model_module_version": "1.2.0",
      "_model_name": "LayoutModel",
      "_view_count": null,
      "_view_module": "@jupyter-widgets/base",
      "_view_module_version": "1.2.0",
      "_view_name": "LayoutView",
      "align_content": null,
      "align_items": null,
      "align_self": null,
      "border": null,
      "bottom": null,
      "display": null,
      "flex": null,
      "flex_flow": null,
      "grid_area": null,
      "grid_auto_columns": null,
      "grid_auto_flow": null,
      "grid_auto_rows": null,
      "grid_column": null,
      "grid_gap": null,
      "grid_row": null,
      "grid_template_areas": null,
      "grid_template_columns": null,
      "grid_template_rows": null,
      "height": null,
      "justify_content": null,
      "justify_items": null,
      "left": null,
      "margin": null,
      "max_height": null,
      "max_width": null,
      "min_height": null,
      "min_width": null,
      "object_fit": null,
      "object_position": null,
      "order": null,
      "overflow": null,
      "overflow_x": null,
      "overflow_y": null,
      "padding": null,
      "right": null,
      "top": null,
      "visibility": null,
      "width": null
     }
    },
    "38140ef506a04f72a4f7529fb98f4275": {
     "model_module": "@jupyter-widgets/controls",
     "model_name": "DescriptionStyleModel",
     "state": {
      "_model_module": "@jupyter-widgets/controls",
      "_model_module_version": "1.5.0",
      "_model_name": "DescriptionStyleModel",
      "_view_count": null,
      "_view_module": "@jupyter-widgets/base",
      "_view_module_version": "1.2.0",
      "_view_name": "StyleView",
      "description_width": ""
     }
    },
    "4305f286993e464ead7a64a009b00d75": {
     "model_module": "@jupyter-widgets/controls",
     "model_name": "DescriptionStyleModel",
     "state": {
      "_model_module": "@jupyter-widgets/controls",
      "_model_module_version": "1.5.0",
      "_model_name": "DescriptionStyleModel",
      "_view_count": null,
      "_view_module": "@jupyter-widgets/base",
      "_view_module_version": "1.2.0",
      "_view_name": "StyleView",
      "description_width": ""
     }
    },
    "46579d9796df4524a29a0f46277b5264": {
     "model_module": "@jupyter-widgets/controls",
     "model_name": "ProgressStyleModel",
     "state": {
      "_model_module": "@jupyter-widgets/controls",
      "_model_module_version": "1.5.0",
      "_model_name": "ProgressStyleModel",
      "_view_count": null,
      "_view_module": "@jupyter-widgets/base",
      "_view_module_version": "1.2.0",
      "_view_name": "StyleView",
      "bar_color": null,
      "description_width": "initial"
     }
    },
    "4850355d0fd744e585b865b4c84302c2": {
     "model_module": "@jupyter-widgets/base",
     "model_name": "LayoutModel",
     "state": {
      "_model_module": "@jupyter-widgets/base",
      "_model_module_version": "1.2.0",
      "_model_name": "LayoutModel",
      "_view_count": null,
      "_view_module": "@jupyter-widgets/base",
      "_view_module_version": "1.2.0",
      "_view_name": "LayoutView",
      "align_content": null,
      "align_items": null,
      "align_self": null,
      "border": null,
      "bottom": null,
      "display": null,
      "flex": null,
      "flex_flow": null,
      "grid_area": null,
      "grid_auto_columns": null,
      "grid_auto_flow": null,
      "grid_auto_rows": null,
      "grid_column": null,
      "grid_gap": null,
      "grid_row": null,
      "grid_template_areas": null,
      "grid_template_columns": null,
      "grid_template_rows": null,
      "height": null,
      "justify_content": null,
      "justify_items": null,
      "left": null,
      "margin": null,
      "max_height": null,
      "max_width": null,
      "min_height": null,
      "min_width": null,
      "object_fit": null,
      "object_position": null,
      "order": null,
      "overflow": null,
      "overflow_x": null,
      "overflow_y": null,
      "padding": null,
      "right": null,
      "top": null,
      "visibility": null,
      "width": null
     }
    },
    "57328f4d02dd4ec2b0812a65f8a2373b": {
     "model_module": "@jupyter-widgets/controls",
     "model_name": "ProgressStyleModel",
     "state": {
      "_model_module": "@jupyter-widgets/controls",
      "_model_module_version": "1.5.0",
      "_model_name": "ProgressStyleModel",
      "_view_count": null,
      "_view_module": "@jupyter-widgets/base",
      "_view_module_version": "1.2.0",
      "_view_name": "StyleView",
      "bar_color": null,
      "description_width": "initial"
     }
    },
    "588c2ef6c0a74a0c8ff69ff9f7b4fd01": {
     "model_module": "@jupyter-widgets/controls",
     "model_name": "HTMLModel",
     "state": {
      "_dom_classes": [],
      "_model_module": "@jupyter-widgets/controls",
      "_model_module_version": "1.5.0",
      "_model_name": "HTMLModel",
      "_view_count": null,
      "_view_module": "@jupyter-widgets/controls",
      "_view_module_version": "1.5.0",
      "_view_name": "HTMLView",
      "description": "",
      "description_tooltip": null,
      "layout": "IPY_MODEL_93749318b59745a1bd641521238fa6d8",
      "placeholder": "​",
      "style": "IPY_MODEL_f4d44cade68840cab9fb6c6bc6bd7b2e",
      "value": " 481/481 [00:00&lt;00:00, 23.3kB/s]"
     }
    },
    "5db9ee841f4f4773b046759d6efba624": {
     "model_module": "@jupyter-widgets/base",
     "model_name": "LayoutModel",
     "state": {
      "_model_module": "@jupyter-widgets/base",
      "_model_module_version": "1.2.0",
      "_model_name": "LayoutModel",
      "_view_count": null,
      "_view_module": "@jupyter-widgets/base",
      "_view_module_version": "1.2.0",
      "_view_name": "LayoutView",
      "align_content": null,
      "align_items": null,
      "align_self": null,
      "border": null,
      "bottom": null,
      "display": null,
      "flex": null,
      "flex_flow": null,
      "grid_area": null,
      "grid_auto_columns": null,
      "grid_auto_flow": null,
      "grid_auto_rows": null,
      "grid_column": null,
      "grid_gap": null,
      "grid_row": null,
      "grid_template_areas": null,
      "grid_template_columns": null,
      "grid_template_rows": null,
      "height": null,
      "justify_content": null,
      "justify_items": null,
      "left": null,
      "margin": null,
      "max_height": null,
      "max_width": null,
      "min_height": null,
      "min_width": null,
      "object_fit": null,
      "object_position": null,
      "order": null,
      "overflow": null,
      "overflow_x": null,
      "overflow_y": null,
      "padding": null,
      "right": null,
      "top": null,
      "visibility": null,
      "width": null
     }
    },
    "648a2614f92946eaaaf2972631c1abda": {
     "model_module": "@jupyter-widgets/base",
     "model_name": "LayoutModel",
     "state": {
      "_model_module": "@jupyter-widgets/base",
      "_model_module_version": "1.2.0",
      "_model_name": "LayoutModel",
      "_view_count": null,
      "_view_module": "@jupyter-widgets/base",
      "_view_module_version": "1.2.0",
      "_view_name": "LayoutView",
      "align_content": null,
      "align_items": null,
      "align_self": null,
      "border": null,
      "bottom": null,
      "display": null,
      "flex": null,
      "flex_flow": null,
      "grid_area": null,
      "grid_auto_columns": null,
      "grid_auto_flow": null,
      "grid_auto_rows": null,
      "grid_column": null,
      "grid_gap": null,
      "grid_row": null,
      "grid_template_areas": null,
      "grid_template_columns": null,
      "grid_template_rows": null,
      "height": null,
      "justify_content": null,
      "justify_items": null,
      "left": null,
      "margin": null,
      "max_height": null,
      "max_width": null,
      "min_height": null,
      "min_width": null,
      "object_fit": null,
      "object_position": null,
      "order": null,
      "overflow": null,
      "overflow_x": null,
      "overflow_y": null,
      "padding": null,
      "right": null,
      "top": null,
      "visibility": null,
      "width": null
     }
    },
    "71f3f2b35cdf44f5afb0b406b2d9244a": {
     "model_module": "@jupyter-widgets/base",
     "model_name": "LayoutModel",
     "state": {
      "_model_module": "@jupyter-widgets/base",
      "_model_module_version": "1.2.0",
      "_model_name": "LayoutModel",
      "_view_count": null,
      "_view_module": "@jupyter-widgets/base",
      "_view_module_version": "1.2.0",
      "_view_name": "LayoutView",
      "align_content": null,
      "align_items": null,
      "align_self": null,
      "border": null,
      "bottom": null,
      "display": null,
      "flex": null,
      "flex_flow": null,
      "grid_area": null,
      "grid_auto_columns": null,
      "grid_auto_flow": null,
      "grid_auto_rows": null,
      "grid_column": null,
      "grid_gap": null,
      "grid_row": null,
      "grid_template_areas": null,
      "grid_template_columns": null,
      "grid_template_rows": null,
      "height": null,
      "justify_content": null,
      "justify_items": null,
      "left": null,
      "margin": null,
      "max_height": null,
      "max_width": null,
      "min_height": null,
      "min_width": null,
      "object_fit": null,
      "object_position": null,
      "order": null,
      "overflow": null,
      "overflow_x": null,
      "overflow_y": null,
      "padding": null,
      "right": null,
      "top": null,
      "visibility": null,
      "width": null
     }
    },
    "756814c4f6c042cd87752c7247735da5": {
     "model_module": "@jupyter-widgets/controls",
     "model_name": "DescriptionStyleModel",
     "state": {
      "_model_module": "@jupyter-widgets/controls",
      "_model_module_version": "1.5.0",
      "_model_name": "DescriptionStyleModel",
      "_view_count": null,
      "_view_module": "@jupyter-widgets/base",
      "_view_module_version": "1.2.0",
      "_view_name": "StyleView",
      "description_width": ""
     }
    },
    "7f38920c3e1b4c5d8c3c3ad077ab2f45": {
     "model_module": "@jupyter-widgets/controls",
     "model_name": "FloatProgressModel",
     "state": {
      "_dom_classes": [],
      "_model_module": "@jupyter-widgets/controls",
      "_model_module_version": "1.5.0",
      "_model_name": "FloatProgressModel",
      "_view_count": null,
      "_view_module": "@jupyter-widgets/controls",
      "_view_module_version": "1.5.0",
      "_view_name": "ProgressView",
      "bar_style": "",
      "description": "Epochs:  20%",
      "description_tooltip": null,
      "layout": "IPY_MODEL_3415c236fa94423fb619bf0d0bd8a565",
      "max": 10,
      "min": 0,
      "orientation": "horizontal",
      "style": "IPY_MODEL_27686cb81ffe4c89bf6165a2b0958d9e",
      "value": 2
     }
    },
    "85a37de524974cd7aab344d7b74c00e7": {
     "model_module": "@jupyter-widgets/controls",
     "model_name": "HBoxModel",
     "state": {
      "_dom_classes": [],
      "_model_module": "@jupyter-widgets/controls",
      "_model_module_version": "1.5.0",
      "_model_name": "HBoxModel",
      "_view_count": null,
      "_view_module": "@jupyter-widgets/controls",
      "_view_module_version": "1.5.0",
      "_view_name": "HBoxView",
      "box_style": "",
      "children": [
       "IPY_MODEL_ce05de50c119433d914e2451eda9f121",
       "IPY_MODEL_1116938eddea4cdfb04836aec9b3046d"
      ],
      "layout": "IPY_MODEL_e0408e545bb64c138ba3c3d24bb99466"
     }
    },
    "8eecf055e0d64ab7b41249f71aeae4dc": {
     "model_module": "@jupyter-widgets/base",
     "model_name": "LayoutModel",
     "state": {
      "_model_module": "@jupyter-widgets/base",
      "_model_module_version": "1.2.0",
      "_model_name": "LayoutModel",
      "_view_count": null,
      "_view_module": "@jupyter-widgets/base",
      "_view_module_version": "1.2.0",
      "_view_name": "LayoutView",
      "align_content": null,
      "align_items": null,
      "align_self": null,
      "border": null,
      "bottom": null,
      "display": null,
      "flex": null,
      "flex_flow": null,
      "grid_area": null,
      "grid_auto_columns": null,
      "grid_auto_flow": null,
      "grid_auto_rows": null,
      "grid_column": null,
      "grid_gap": null,
      "grid_row": null,
      "grid_template_areas": null,
      "grid_template_columns": null,
      "grid_template_rows": null,
      "height": null,
      "justify_content": null,
      "justify_items": null,
      "left": null,
      "margin": null,
      "max_height": null,
      "max_width": null,
      "min_height": null,
      "min_width": null,
      "object_fit": null,
      "object_position": null,
      "order": null,
      "overflow": null,
      "overflow_x": null,
      "overflow_y": null,
      "padding": null,
      "right": null,
      "top": null,
      "visibility": null,
      "width": null
     }
    },
    "904101d0d97344dd97db54efbe5be40d": {
     "model_module": "@jupyter-widgets/controls",
     "model_name": "ProgressStyleModel",
     "state": {
      "_model_module": "@jupyter-widgets/controls",
      "_model_module_version": "1.5.0",
      "_model_name": "ProgressStyleModel",
      "_view_count": null,
      "_view_module": "@jupyter-widgets/base",
      "_view_module_version": "1.2.0",
      "_view_name": "StyleView",
      "bar_color": null,
      "description_width": "initial"
     }
    },
    "93749318b59745a1bd641521238fa6d8": {
     "model_module": "@jupyter-widgets/base",
     "model_name": "LayoutModel",
     "state": {
      "_model_module": "@jupyter-widgets/base",
      "_model_module_version": "1.2.0",
      "_model_name": "LayoutModel",
      "_view_count": null,
      "_view_module": "@jupyter-widgets/base",
      "_view_module_version": "1.2.0",
      "_view_name": "LayoutView",
      "align_content": null,
      "align_items": null,
      "align_self": null,
      "border": null,
      "bottom": null,
      "display": null,
      "flex": null,
      "flex_flow": null,
      "grid_area": null,
      "grid_auto_columns": null,
      "grid_auto_flow": null,
      "grid_auto_rows": null,
      "grid_column": null,
      "grid_gap": null,
      "grid_row": null,
      "grid_template_areas": null,
      "grid_template_columns": null,
      "grid_template_rows": null,
      "height": null,
      "justify_content": null,
      "justify_items": null,
      "left": null,
      "margin": null,
      "max_height": null,
      "max_width": null,
      "min_height": null,
      "min_width": null,
      "object_fit": null,
      "object_position": null,
      "order": null,
      "overflow": null,
      "overflow_x": null,
      "overflow_y": null,
      "padding": null,
      "right": null,
      "top": null,
      "visibility": null,
      "width": null
     }
    },
    "9825078ac2d0458b8d12b8d8fb1a7337": {
     "model_module": "@jupyter-widgets/base",
     "model_name": "LayoutModel",
     "state": {
      "_model_module": "@jupyter-widgets/base",
      "_model_module_version": "1.2.0",
      "_model_name": "LayoutModel",
      "_view_count": null,
      "_view_module": "@jupyter-widgets/base",
      "_view_module_version": "1.2.0",
      "_view_name": "LayoutView",
      "align_content": null,
      "align_items": null,
      "align_self": null,
      "border": null,
      "bottom": null,
      "display": null,
      "flex": null,
      "flex_flow": null,
      "grid_area": null,
      "grid_auto_columns": null,
      "grid_auto_flow": null,
      "grid_auto_rows": null,
      "grid_column": null,
      "grid_gap": null,
      "grid_row": null,
      "grid_template_areas": null,
      "grid_template_columns": null,
      "grid_template_rows": null,
      "height": null,
      "justify_content": null,
      "justify_items": null,
      "left": null,
      "margin": null,
      "max_height": null,
      "max_width": null,
      "min_height": null,
      "min_width": null,
      "object_fit": null,
      "object_position": null,
      "order": null,
      "overflow": null,
      "overflow_x": null,
      "overflow_y": null,
      "padding": null,
      "right": null,
      "top": null,
      "visibility": null,
      "width": null
     }
    },
    "a494798c400948158e604f4a036a9d0a": {
     "model_module": "@jupyter-widgets/controls",
     "model_name": "FloatProgressModel",
     "state": {
      "_dom_classes": [],
      "_model_module": "@jupyter-widgets/controls",
      "_model_module_version": "1.5.0",
      "_model_name": "FloatProgressModel",
      "_view_count": null,
      "_view_module": "@jupyter-widgets/controls",
      "_view_module_version": "1.5.0",
      "_view_name": "ProgressView",
      "bar_style": "success",
      "description": "Downloading: 100%",
      "description_tooltip": null,
      "layout": "IPY_MODEL_0102ca3dc5484697b95469d1ff79cf1f",
      "max": 456318,
      "min": 0,
      "orientation": "horizontal",
      "style": "IPY_MODEL_57328f4d02dd4ec2b0812a65f8a2373b",
      "value": 456318
     }
    },
    "ad85a9c24f554eb8b8c72e439f26263e": {
     "model_module": "@jupyter-widgets/base",
     "model_name": "LayoutModel",
     "state": {
      "_model_module": "@jupyter-widgets/base",
      "_model_module_version": "1.2.0",
      "_model_name": "LayoutModel",
      "_view_count": null,
      "_view_module": "@jupyter-widgets/base",
      "_view_module_version": "1.2.0",
      "_view_name": "LayoutView",
      "align_content": null,
      "align_items": null,
      "align_self": null,
      "border": null,
      "bottom": null,
      "display": null,
      "flex": null,
      "flex_flow": null,
      "grid_area": null,
      "grid_auto_columns": null,
      "grid_auto_flow": null,
      "grid_auto_rows": null,
      "grid_column": null,
      "grid_gap": null,
      "grid_row": null,
      "grid_template_areas": null,
      "grid_template_columns": null,
      "grid_template_rows": null,
      "height": null,
      "justify_content": null,
      "justify_items": null,
      "left": null,
      "margin": null,
      "max_height": null,
      "max_width": null,
      "min_height": null,
      "min_width": null,
      "object_fit": null,
      "object_position": null,
      "order": null,
      "overflow": null,
      "overflow_x": null,
      "overflow_y": null,
      "padding": null,
      "right": null,
      "top": null,
      "visibility": null,
      "width": null
     }
    },
    "bd58684840a248feac3e68b109bcdcb9": {
     "model_module": "@jupyter-widgets/base",
     "model_name": "LayoutModel",
     "state": {
      "_model_module": "@jupyter-widgets/base",
      "_model_module_version": "1.2.0",
      "_model_name": "LayoutModel",
      "_view_count": null,
      "_view_module": "@jupyter-widgets/base",
      "_view_module_version": "1.2.0",
      "_view_name": "LayoutView",
      "align_content": null,
      "align_items": null,
      "align_self": null,
      "border": null,
      "bottom": null,
      "display": null,
      "flex": null,
      "flex_flow": null,
      "grid_area": null,
      "grid_auto_columns": null,
      "grid_auto_flow": null,
      "grid_auto_rows": null,
      "grid_column": null,
      "grid_gap": null,
      "grid_row": null,
      "grid_template_areas": null,
      "grid_template_columns": null,
      "grid_template_rows": null,
      "height": null,
      "justify_content": null,
      "justify_items": null,
      "left": null,
      "margin": null,
      "max_height": null,
      "max_width": null,
      "min_height": null,
      "min_width": null,
      "object_fit": null,
      "object_position": null,
      "order": null,
      "overflow": null,
      "overflow_x": null,
      "overflow_y": null,
      "padding": null,
      "right": null,
      "top": null,
      "visibility": null,
      "width": null
     }
    },
    "ce05de50c119433d914e2451eda9f121": {
     "model_module": "@jupyter-widgets/controls",
     "model_name": "FloatProgressModel",
     "state": {
      "_dom_classes": [],
      "_model_module": "@jupyter-widgets/controls",
      "_model_module_version": "1.5.0",
      "_model_name": "FloatProgressModel",
      "_view_count": null,
      "_view_module": "@jupyter-widgets/controls",
      "_view_module_version": "1.5.0",
      "_view_name": "ProgressView",
      "bar_style": "",
      "description": "Downloading:  37%",
      "description_tooltip": null,
      "layout": "IPY_MODEL_4850355d0fd744e585b865b4c84302c2",
      "max": 501200538,
      "min": 0,
      "orientation": "horizontal",
      "style": "IPY_MODEL_904101d0d97344dd97db54efbe5be40d",
      "value": 186740736
     }
    },
    "d0ea5ffa85f74a1c8e58a7db9a60381c": {
     "model_module": "@jupyter-widgets/base",
     "model_name": "LayoutModel",
     "state": {
      "_model_module": "@jupyter-widgets/base",
      "_model_module_version": "1.2.0",
      "_model_name": "LayoutModel",
      "_view_count": null,
      "_view_module": "@jupyter-widgets/base",
      "_view_module_version": "1.2.0",
      "_view_name": "LayoutView",
      "align_content": null,
      "align_items": null,
      "align_self": null,
      "border": null,
      "bottom": null,
      "display": null,
      "flex": null,
      "flex_flow": null,
      "grid_area": null,
      "grid_auto_columns": null,
      "grid_auto_flow": null,
      "grid_auto_rows": null,
      "grid_column": null,
      "grid_gap": null,
      "grid_row": null,
      "grid_template_areas": null,
      "grid_template_columns": null,
      "grid_template_rows": null,
      "height": null,
      "justify_content": null,
      "justify_items": null,
      "left": null,
      "margin": null,
      "max_height": null,
      "max_width": null,
      "min_height": null,
      "min_width": null,
      "object_fit": null,
      "object_position": null,
      "order": null,
      "overflow": null,
      "overflow_x": null,
      "overflow_y": null,
      "padding": null,
      "right": null,
      "top": null,
      "visibility": null,
      "width": null
     }
    },
    "d8c8074374cb46128c5fc8049ea0d206": {
     "model_module": "@jupyter-widgets/base",
     "model_name": "LayoutModel",
     "state": {
      "_model_module": "@jupyter-widgets/base",
      "_model_module_version": "1.2.0",
      "_model_name": "LayoutModel",
      "_view_count": null,
      "_view_module": "@jupyter-widgets/base",
      "_view_module_version": "1.2.0",
      "_view_name": "LayoutView",
      "align_content": null,
      "align_items": null,
      "align_self": null,
      "border": null,
      "bottom": null,
      "display": null,
      "flex": null,
      "flex_flow": null,
      "grid_area": null,
      "grid_auto_columns": null,
      "grid_auto_flow": null,
      "grid_auto_rows": null,
      "grid_column": null,
      "grid_gap": null,
      "grid_row": null,
      "grid_template_areas": null,
      "grid_template_columns": null,
      "grid_template_rows": null,
      "height": null,
      "justify_content": null,
      "justify_items": null,
      "left": null,
      "margin": null,
      "max_height": null,
      "max_width": null,
      "min_height": null,
      "min_width": null,
      "object_fit": null,
      "object_position": null,
      "order": null,
      "overflow": null,
      "overflow_x": null,
      "overflow_y": null,
      "padding": null,
      "right": null,
      "top": null,
      "visibility": null,
      "width": null
     }
    },
    "d92c86254854431c9004add998958001": {
     "model_module": "@jupyter-widgets/base",
     "model_name": "LayoutModel",
     "state": {
      "_model_module": "@jupyter-widgets/base",
      "_model_module_version": "1.2.0",
      "_model_name": "LayoutModel",
      "_view_count": null,
      "_view_module": "@jupyter-widgets/base",
      "_view_module_version": "1.2.0",
      "_view_name": "LayoutView",
      "align_content": null,
      "align_items": null,
      "align_self": null,
      "border": null,
      "bottom": null,
      "display": null,
      "flex": null,
      "flex_flow": null,
      "grid_area": null,
      "grid_auto_columns": null,
      "grid_auto_flow": null,
      "grid_auto_rows": null,
      "grid_column": null,
      "grid_gap": null,
      "grid_row": null,
      "grid_template_areas": null,
      "grid_template_columns": null,
      "grid_template_rows": null,
      "height": null,
      "justify_content": null,
      "justify_items": null,
      "left": null,
      "margin": null,
      "max_height": null,
      "max_width": null,
      "min_height": null,
      "min_width": null,
      "object_fit": null,
      "object_position": null,
      "order": null,
      "overflow": null,
      "overflow_x": null,
      "overflow_y": null,
      "padding": null,
      "right": null,
      "top": null,
      "visibility": null,
      "width": null
     }
    },
    "dd6289309fbf4029b3fbb759409801ef": {
     "model_module": "@jupyter-widgets/controls",
     "model_name": "HTMLModel",
     "state": {
      "_dom_classes": [],
      "_model_module": "@jupyter-widgets/controls",
      "_model_module_version": "1.5.0",
      "_model_name": "HTMLModel",
      "_view_count": null,
      "_view_module": "@jupyter-widgets/controls",
      "_view_module_version": "1.5.0",
      "_view_name": "HTMLView",
      "description": "",
      "description_tooltip": null,
      "layout": "IPY_MODEL_5db9ee841f4f4773b046759d6efba624",
      "placeholder": "​",
      "style": "IPY_MODEL_4305f286993e464ead7a64a009b00d75",
      "value": " 2/10 [2:12:02&lt;8:48:02, 3960.36s/it]"
     }
    },
    "e0408e545bb64c138ba3c3d24bb99466": {
     "model_module": "@jupyter-widgets/base",
     "model_name": "LayoutModel",
     "state": {
      "_model_module": "@jupyter-widgets/base",
      "_model_module_version": "1.2.0",
      "_model_name": "LayoutModel",
      "_view_count": null,
      "_view_module": "@jupyter-widgets/base",
      "_view_module_version": "1.2.0",
      "_view_name": "LayoutView",
      "align_content": null,
      "align_items": null,
      "align_self": null,
      "border": null,
      "bottom": null,
      "display": null,
      "flex": null,
      "flex_flow": null,
      "grid_area": null,
      "grid_auto_columns": null,
      "grid_auto_flow": null,
      "grid_auto_rows": null,
      "grid_column": null,
      "grid_gap": null,
      "grid_row": null,
      "grid_template_areas": null,
      "grid_template_columns": null,
      "grid_template_rows": null,
      "height": null,
      "justify_content": null,
      "justify_items": null,
      "left": null,
      "margin": null,
      "max_height": null,
      "max_width": null,
      "min_height": null,
      "min_width": null,
      "object_fit": null,
      "object_position": null,
      "order": null,
      "overflow": null,
      "overflow_x": null,
      "overflow_y": null,
      "padding": null,
      "right": null,
      "top": null,
      "visibility": null,
      "width": null
     }
    },
    "e6714630de224fca91c83cc7de3967b3": {
     "model_module": "@jupyter-widgets/controls",
     "model_name": "HBoxModel",
     "state": {
      "_dom_classes": [],
      "_model_module": "@jupyter-widgets/controls",
      "_model_module_version": "1.5.0",
      "_model_name": "HBoxModel",
      "_view_count": null,
      "_view_module": "@jupyter-widgets/controls",
      "_view_module_version": "1.5.0",
      "_view_name": "HBoxView",
      "box_style": "",
      "children": [
       "IPY_MODEL_054e1fa87fd545b3884ca1389b2c88ed",
       "IPY_MODEL_588c2ef6c0a74a0c8ff69ff9f7b4fd01"
      ],
      "layout": "IPY_MODEL_d8c8074374cb46128c5fc8049ea0d206"
     }
    },
    "ec9ace31262840eeb164c44d5c3c1ec5": {
     "model_module": "@jupyter-widgets/controls",
     "model_name": "HTMLModel",
     "state": {
      "_dom_classes": [],
      "_model_module": "@jupyter-widgets/controls",
      "_model_module_version": "1.5.0",
      "_model_name": "HTMLModel",
      "_view_count": null,
      "_view_module": "@jupyter-widgets/controls",
      "_view_module_version": "1.5.0",
      "_view_name": "HTMLView",
      "description": "",
      "description_tooltip": null,
      "layout": "IPY_MODEL_d0ea5ffa85f74a1c8e58a7db9a60381c",
      "placeholder": "​",
      "style": "IPY_MODEL_756814c4f6c042cd87752c7247735da5",
      "value": " 456k/456k [00:00&lt;00:00, 1.25MB/s]"
     }
    },
    "f185c36a3e7a472aa9f87f8f2104affe": {
     "model_module": "@jupyter-widgets/controls",
     "model_name": "ProgressStyleModel",
     "state": {
      "_model_module": "@jupyter-widgets/controls",
      "_model_module_version": "1.5.0",
      "_model_name": "ProgressStyleModel",
      "_view_count": null,
      "_view_module": "@jupyter-widgets/base",
      "_view_module_version": "1.2.0",
      "_view_name": "StyleView",
      "bar_color": null,
      "description_width": "initial"
     }
    },
    "f4d44cade68840cab9fb6c6bc6bd7b2e": {
     "model_module": "@jupyter-widgets/controls",
     "model_name": "DescriptionStyleModel",
     "state": {
      "_model_module": "@jupyter-widgets/controls",
      "_model_module_version": "1.5.0",
      "_model_name": "DescriptionStyleModel",
      "_view_count": null,
      "_view_module": "@jupyter-widgets/base",
      "_view_module_version": "1.2.0",
      "_view_name": "StyleView",
      "description_width": ""
     }
    },
    "f5799af5c4a04afaa3337e72b75426df": {
     "model_module": "@jupyter-widgets/controls",
     "model_name": "FloatProgressModel",
     "state": {
      "_dom_classes": [],
      "_model_module": "@jupyter-widgets/controls",
      "_model_module_version": "1.5.0",
      "_model_name": "FloatProgressModel",
      "_view_count": null,
      "_view_module": "@jupyter-widgets/controls",
      "_view_module_version": "1.5.0",
      "_view_name": "ProgressView",
      "bar_style": "success",
      "description": "Downloading: 100%",
      "description_tooltip": null,
      "layout": "IPY_MODEL_d92c86254854431c9004add998958001",
      "max": 898823,
      "min": 0,
      "orientation": "horizontal",
      "style": "IPY_MODEL_f185c36a3e7a472aa9f87f8f2104affe",
      "value": 898823
     }
    }
   }
  }
 },
 "nbformat": 4,
 "nbformat_minor": 1
}
