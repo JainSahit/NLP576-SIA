{
 "cells": [
  {
   "cell_type": "code",
   "execution_count": 1,
   "metadata": {},
   "outputs": [],
   "source": [
    "import pandas as pd\n",
    "hotpotqa=pd.read_csv(\"D:/FALL_2020/CSE576 NLP/Course_Project/Phase_2_Synthetic_Data/combined_dataset_group/HotpotQA.csv\")\n",
    "msmarco=pd.read_csv(\"D:/FALL_2020/CSE576 NLP/Course_Project/Phase_2_Synthetic_Data/combined_dataset_group/MSMARCO.csv\")\n",
    "openbookqa=pd.read_csv(\"D:/FALL_2020/CSE576 NLP/Course_Project/Phase_2_Synthetic_Data/combined_dataset_group/openBook_QA.csv\")\n",
    "qasc=pd.read_excel(\"D:/FALL_2020/CSE576 NLP/Course_Project/Phase_2_Synthetic_Data/combined_dataset_group/QASC_Dataset_with_SIA_score.xlsx\")\n",
    "wikipassageqa=pd.read_json(\"D:/FALL_2020/CSE576 NLP/Course_Project/Phase_2_Synthetic_Data/combined_dataset_group/wikipassageqa.json\")"
   ]
  },
  {
   "cell_type": "code",
   "execution_count": 232,
   "metadata": {},
   "outputs": [],
   "source": [
    "wikipassageqa=wikipassageqa.T"
   ]
  },
  {
   "cell_type": "code",
   "execution_count": 233,
   "metadata": {},
   "outputs": [
    {
     "data": {
      "text/html": [
       "<div>\n",
       "<style scoped>\n",
       "    .dataframe tbody tr th:only-of-type {\n",
       "        vertical-align: middle;\n",
       "    }\n",
       "\n",
       "    .dataframe tbody tr th {\n",
       "        vertical-align: top;\n",
       "    }\n",
       "\n",
       "    .dataframe thead th {\n",
       "        text-align: right;\n",
       "    }\n",
       "</style>\n",
       "<table border=\"1\" class=\"dataframe\">\n",
       "  <thead>\n",
       "    <tr style=\"text-align: right;\">\n",
       "      <th></th>\n",
       "      <th>sentence</th>\n",
       "      <th>Question</th>\n",
       "      <th>sia_score</th>\n",
       "    </tr>\n",
       "  </thead>\n",
       "  <tbody>\n",
       "    <tr>\n",
       "      <td>0</td>\n",
       "      <td>Conversionism, or belief in the necessity of b...</td>\n",
       "      <td>What is the role of conversionism in Evangelic...</td>\n",
       "      <td>3.46572</td>\n",
       "    </tr>\n",
       "    <tr>\n",
       "      <td>1</td>\n",
       "      <td>Evangelicalism , Evangelical Christianity, or ...</td>\n",
       "      <td>What is the role of conversionism in Evangelic...</td>\n",
       "      <td>2.99279</td>\n",
       "    </tr>\n",
       "    <tr>\n",
       "      <td>2</td>\n",
       "      <td>In New Jersey, Gilbert Tennent, another Presby...</td>\n",
       "      <td>What is the role of conversionism in Evangelic...</td>\n",
       "      <td>2.60734</td>\n",
       "    </tr>\n",
       "    <tr>\n",
       "      <td>3</td>\n",
       "      <td>Evangelicals are Christians who believe in the...</td>\n",
       "      <td>What is the role of conversionism in Evangelic...</td>\n",
       "      <td>2.93423</td>\n",
       "    </tr>\n",
       "    <tr>\n",
       "      <td>4</td>\n",
       "      <td>He goes on:  Whereas the Puritans had held tha...</td>\n",
       "      <td>What is the role of conversionism in Evangelic...</td>\n",
       "      <td>2.50662</td>\n",
       "    </tr>\n",
       "  </tbody>\n",
       "</table>\n",
       "</div>"
      ],
      "text/plain": [
       "                                            sentence  \\\n",
       "0  Conversionism, or belief in the necessity of b...   \n",
       "1  Evangelicalism , Evangelical Christianity, or ...   \n",
       "2  In New Jersey, Gilbert Tennent, another Presby...   \n",
       "3  Evangelicals are Christians who believe in the...   \n",
       "4  He goes on:  Whereas the Puritans had held tha...   \n",
       "\n",
       "                                            Question sia_score  \n",
       "0  What is the role of conversionism in Evangelic...   3.46572  \n",
       "1  What is the role of conversionism in Evangelic...   2.99279  \n",
       "2  What is the role of conversionism in Evangelic...   2.60734  \n",
       "3  What is the role of conversionism in Evangelic...   2.93423  \n",
       "4  What is the role of conversionism in Evangelic...   2.50662  "
      ]
     },
     "execution_count": 233,
     "metadata": {},
     "output_type": "execute_result"
    }
   ],
   "source": [
    "wikipassageqa.head()"
   ]
  },
  {
   "cell_type": "markdown",
   "metadata": {},
   "source": [
    "# QASC"
   ]
  },
  {
   "cell_type": "code",
   "execution_count": 92,
   "metadata": {},
   "outputs": [
    {
     "name": "stderr",
     "output_type": "stream",
     "text": [
      "C:\\ProgramData\\Anaconda3\\lib\\site-packages\\ipykernel_launcher.py:3: SettingWithCopyWarning: \n",
      "A value is trying to be set on a copy of a slice from a DataFrame\n",
      "\n",
      "See the caveats in the documentation: http://pandas.pydata.org/pandas-docs/stable/user_guide/indexing.html#returning-a-view-versus-a-copy\n",
      "  This is separate from the ipykernel package so we can avoid doing imports until\n"
     ]
    }
   ],
   "source": [
    "for i in range(len(qasc['sia_score'])):\n",
    "    if(qasc['sia_score'][i]<=0.3):\n",
    "        qasc['sia_score'][i]=0\n",
    "is_4 =  qasc['sia_score'] == 4\n",
    "is_3_4 =  (qasc['sia_score']>=3)  & (qasc['sia_score']<=3.9)\n",
    "is_2_3 =  (qasc['sia_score']>=2)  & (qasc['sia_score']<=2.9)\n",
    "is_1_2 =  (qasc['sia_score']>=1)  & (qasc['sia_score']<=1.9)\n",
    "is_0_1 =  (qasc['sia_score']>0)  & (qasc['sia_score']<=0.9)\n",
    "is_0 =  qasc['sia_score'] == 0\n"
   ]
  },
  {
   "cell_type": "code",
   "execution_count": 137,
   "metadata": {},
   "outputs": [],
   "source": [
    "qasc_new=qasc[is_0]"
   ]
  },
  {
   "cell_type": "code",
   "execution_count": 138,
   "metadata": {},
   "outputs": [
    {
     "data": {
      "text/html": [
       "<div>\n",
       "<style scoped>\n",
       "    .dataframe tbody tr th:only-of-type {\n",
       "        vertical-align: middle;\n",
       "    }\n",
       "\n",
       "    .dataframe tbody tr th {\n",
       "        vertical-align: top;\n",
       "    }\n",
       "\n",
       "    .dataframe thead th {\n",
       "        text-align: right;\n",
       "    }\n",
       "</style>\n",
       "<table border=\"1\" class=\"dataframe\">\n",
       "  <thead>\n",
       "    <tr style=\"text-align: right;\">\n",
       "      <th></th>\n",
       "      <th>question</th>\n",
       "      <th>sentence</th>\n",
       "      <th>sia_score</th>\n",
       "    </tr>\n",
       "  </thead>\n",
       "  <tbody>\n",
       "    <tr>\n",
       "      <td>15</td>\n",
       "      <td>Where do beads of water come from?</td>\n",
       "      <td>An underground system is planned.</td>\n",
       "      <td>0.0</td>\n",
       "    </tr>\n",
       "    <tr>\n",
       "      <td>20</td>\n",
       "      <td>Where do beads of water come from?</td>\n",
       "      <td>Mountain peaks rise.</td>\n",
       "      <td>0.0</td>\n",
       "    </tr>\n",
       "    <tr>\n",
       "      <td>36</td>\n",
       "      <td>what kind of beads are formed from vapor conde...</td>\n",
       "      <td>And a neutron star is tiny tiny tiny.</td>\n",
       "      <td>0.0</td>\n",
       "    </tr>\n",
       "    <tr>\n",
       "      <td>41</td>\n",
       "      <td>what kind of beads are formed from vapor conde...</td>\n",
       "      <td>Rain is rain.</td>\n",
       "      <td>0.0</td>\n",
       "    </tr>\n",
       "    <tr>\n",
       "      <td>48</td>\n",
       "      <td>what kind of beads are formed by their vapor c...</td>\n",
       "      <td>Rain is rain.</td>\n",
       "      <td>0.0</td>\n",
       "    </tr>\n",
       "    <tr>\n",
       "      <td>...</td>\n",
       "      <td>...</td>\n",
       "      <td>...</td>\n",
       "      <td>...</td>\n",
       "    </tr>\n",
       "    <tr>\n",
       "      <td>99602</td>\n",
       "      <td>Cleaning the blood with an artificial kidney c...</td>\n",
       "      <td>Thems is the breaks.</td>\n",
       "      <td>0.0</td>\n",
       "    </tr>\n",
       "    <tr>\n",
       "      <td>99635</td>\n",
       "      <td>What are the consequences of not getting dialy...</td>\n",
       "      <td>Weights are mature weights.</td>\n",
       "      <td>0.0</td>\n",
       "    </tr>\n",
       "    <tr>\n",
       "      <td>99637</td>\n",
       "      <td>What are the consequences of not getting dialy...</td>\n",
       "      <td>Cold winds, cold words, coldness brings lighte...</td>\n",
       "      <td>0.0</td>\n",
       "    </tr>\n",
       "    <tr>\n",
       "      <td>99641</td>\n",
       "      <td>Kidney failure may be treated by cleaning the ...</td>\n",
       "      <td>Lives are saved.</td>\n",
       "      <td>0.0</td>\n",
       "    </tr>\n",
       "    <tr>\n",
       "      <td>99647</td>\n",
       "      <td>Kidney failure may be treated by cleaning the ...</td>\n",
       "      <td>Thems is the breaks.</td>\n",
       "      <td>0.0</td>\n",
       "    </tr>\n",
       "  </tbody>\n",
       "</table>\n",
       "<p>7287 rows × 3 columns</p>\n",
       "</div>"
      ],
      "text/plain": [
       "                                                question  \\\n",
       "15                    Where do beads of water come from?   \n",
       "20                    Where do beads of water come from?   \n",
       "36     what kind of beads are formed from vapor conde...   \n",
       "41     what kind of beads are formed from vapor conde...   \n",
       "48     what kind of beads are formed by their vapor c...   \n",
       "...                                                  ...   \n",
       "99602  Cleaning the blood with an artificial kidney c...   \n",
       "99635  What are the consequences of not getting dialy...   \n",
       "99637  What are the consequences of not getting dialy...   \n",
       "99641  Kidney failure may be treated by cleaning the ...   \n",
       "99647  Kidney failure may be treated by cleaning the ...   \n",
       "\n",
       "                                                sentence  sia_score  \n",
       "15                     An underground system is planned.        0.0  \n",
       "20                                  Mountain peaks rise.        0.0  \n",
       "36                 And a neutron star is tiny tiny tiny.        0.0  \n",
       "41                                         Rain is rain.        0.0  \n",
       "48                                         Rain is rain.        0.0  \n",
       "...                                                  ...        ...  \n",
       "99602                               Thems is the breaks.        0.0  \n",
       "99635                        Weights are mature weights.        0.0  \n",
       "99637  Cold winds, cold words, coldness brings lighte...        0.0  \n",
       "99641                                   Lives are saved.        0.0  \n",
       "99647                               Thems is the breaks.        0.0  \n",
       "\n",
       "[7287 rows x 3 columns]"
      ]
     },
     "execution_count": 138,
     "metadata": {},
     "output_type": "execute_result"
    }
   ],
   "source": [
    "qasc_new"
   ]
  },
  {
   "cell_type": "code",
   "execution_count": 139,
   "metadata": {},
   "outputs": [],
   "source": [
    "final_dataframe=final_dataframe.append(qasc_new.sample(n=1600),ignore_index = True) "
   ]
  },
  {
   "cell_type": "markdown",
   "metadata": {},
   "source": [
    "# wikipassageQA"
   ]
  },
  {
   "cell_type": "code",
   "execution_count": 219,
   "metadata": {},
   "outputs": [
    {
     "data": {
      "text/plain": [
       "Index(['sentence', 'Question', 'sia_score'], dtype='object')"
      ]
     },
     "execution_count": 219,
     "metadata": {},
     "output_type": "execute_result"
    }
   ],
   "source": [
    "wikipassageqa.columns"
   ]
  },
  {
   "cell_type": "code",
   "execution_count": 234,
   "metadata": {},
   "outputs": [],
   "source": [
    "temp_dataframe=wikipassageqa.sample(n=3000)"
   ]
  },
  {
   "cell_type": "code",
   "execution_count": 242,
   "metadata": {},
   "outputs": [
    {
     "ename": "TypeError",
     "evalue": "sample() got an unexpected keyword argument 'index'",
     "output_type": "error",
     "traceback": [
      "\u001b[1;31m---------------------------------------------------------------------------\u001b[0m",
      "\u001b[1;31mTypeError\u001b[0m                                 Traceback (most recent call last)",
      "\u001b[1;32m<ipython-input-242-836393bd7991>\u001b[0m in \u001b[0;36m<module>\u001b[1;34m\u001b[0m\n\u001b[1;32m----> 1\u001b[1;33m \u001b[0mtemp_dataframe_2\u001b[0m\u001b[1;33m=\u001b[0m\u001b[0mqasc\u001b[0m\u001b[1;33m.\u001b[0m\u001b[0msample\u001b[0m\u001b[1;33m(\u001b[0m\u001b[0mn\u001b[0m\u001b[1;33m=\u001b[0m\u001b[1;36m3000\u001b[0m\u001b[1;33m,\u001b[0m\u001b[0mindex\u001b[0m\u001b[1;33m=\u001b[0m\u001b[1;32mFalse\u001b[0m\u001b[1;33m)\u001b[0m\u001b[1;33m\u001b[0m\u001b[1;33m\u001b[0m\u001b[0m\n\u001b[0m",
      "\u001b[1;31mTypeError\u001b[0m: sample() got an unexpected keyword argument 'index'"
     ]
    }
   ],
   "source": [
    "temp_dataframe_2=qasc.sample(n=3000)"
   ]
  },
  {
   "cell_type": "code",
   "execution_count": 248,
   "metadata": {},
   "outputs": [],
   "source": [
    "temp_dataframe['sentence']=list(temp_dataframe_2['sentence'])"
   ]
  },
  {
   "cell_type": "code",
   "execution_count": 251,
   "metadata": {},
   "outputs": [],
   "source": [
    "temp_dataframe['sia_score']=0"
   ]
  },
  {
   "cell_type": "code",
   "execution_count": 252,
   "metadata": {},
   "outputs": [
    {
     "data": {
      "text/html": [
       "<div>\n",
       "<style scoped>\n",
       "    .dataframe tbody tr th:only-of-type {\n",
       "        vertical-align: middle;\n",
       "    }\n",
       "\n",
       "    .dataframe tbody tr th {\n",
       "        vertical-align: top;\n",
       "    }\n",
       "\n",
       "    .dataframe thead th {\n",
       "        text-align: right;\n",
       "    }\n",
       "</style>\n",
       "<table border=\"1\" class=\"dataframe\">\n",
       "  <thead>\n",
       "    <tr style=\"text-align: right;\">\n",
       "      <th></th>\n",
       "      <th>sentence</th>\n",
       "      <th>Question</th>\n",
       "      <th>sia_score</th>\n",
       "    </tr>\n",
       "  </thead>\n",
       "  <tbody>\n",
       "    <tr>\n",
       "      <td>6479</td>\n",
       "      <td>Infancy is the period of most rapid growth aft...</td>\n",
       "      <td>How has the U.S. been influenced by French peo...</td>\n",
       "      <td>0</td>\n",
       "    </tr>\n",
       "    <tr>\n",
       "      <td>20166</td>\n",
       "      <td>hydropower requires damming a river</td>\n",
       "      <td>How does christin communism effect communism?</td>\n",
       "      <td>0</td>\n",
       "    </tr>\n",
       "    <tr>\n",
       "      <td>48919</td>\n",
       "      <td>Winter is the coldest season.</td>\n",
       "      <td>How does the influence of a regional power dif...</td>\n",
       "      <td>0</td>\n",
       "    </tr>\n",
       "    <tr>\n",
       "      <td>31443</td>\n",
       "      <td>An acid is defined as a compound which can don...</td>\n",
       "      <td>How was the Napoleonic war financed?</td>\n",
       "      <td>0</td>\n",
       "    </tr>\n",
       "    <tr>\n",
       "      <td>16453</td>\n",
       "      <td>Chemically, oxygen is oxygen.</td>\n",
       "      <td>How does an agreement to form a federation oft...</td>\n",
       "      <td>0</td>\n",
       "    </tr>\n",
       "  </tbody>\n",
       "</table>\n",
       "</div>"
      ],
      "text/plain": [
       "                                                sentence  \\\n",
       "6479   Infancy is the period of most rapid growth aft...   \n",
       "20166                hydropower requires damming a river   \n",
       "48919                      Winter is the coldest season.   \n",
       "31443  An acid is defined as a compound which can don...   \n",
       "16453                      Chemically, oxygen is oxygen.   \n",
       "\n",
       "                                                Question  sia_score  \n",
       "6479   How has the U.S. been influenced by French peo...          0  \n",
       "20166      How does christin communism effect communism?          0  \n",
       "48919  How does the influence of a regional power dif...          0  \n",
       "31443               How was the Napoleonic war financed?          0  \n",
       "16453  How does an agreement to form a federation oft...          0  "
      ]
     },
     "execution_count": 252,
     "metadata": {},
     "output_type": "execute_result"
    }
   ],
   "source": [
    "temp_dataframe.head()"
   ]
  },
  {
   "cell_type": "code",
   "execution_count": 254,
   "metadata": {},
   "outputs": [],
   "source": [
    "wikipassageqa=wikipassageqa.append(temp_dataframe)\n",
    "is_4 =  wikipassageqa['sia_score'] == 4\n",
    "is_3_4 =  (wikipassageqa['sia_score']>=3)  & (wikipassageqa['sia_score']<=3.9)\n",
    "is_2_3 =  (wikipassageqa['sia_score']>=2)  & (wikipassageqa['sia_score']<=2.9)\n",
    "is_1_2 =  (wikipassageqa['sia_score']>=1)  & (wikipassageqa['sia_score']<=1.9)\n",
    "is_0_1 =  (wikipassageqa['sia_score']>0)  & (wikipassageqa['sia_score']<=0.9)\n",
    "is_0 =  wikipassageqa['sia_score'] == 0\n"
   ]
  },
  {
   "cell_type": "code",
   "execution_count": 290,
   "metadata": {},
   "outputs": [],
   "source": [
    "wikipassageqa_new=wikipassageqa[is_4]"
   ]
  },
  {
   "cell_type": "code",
   "execution_count": 291,
   "metadata": {},
   "outputs": [
    {
     "data": {
      "text/plain": [
       "6855"
      ]
     },
     "execution_count": 291,
     "metadata": {},
     "output_type": "execute_result"
    }
   ],
   "source": [
    "len(wikipassageqa_new)"
   ]
  },
  {
   "cell_type": "markdown",
   "metadata": {},
   "source": [
    "# OPENBOOK QA"
   ]
  },
  {
   "cell_type": "code",
   "execution_count": 315,
   "metadata": {},
   "outputs": [
    {
     "name": "stderr",
     "output_type": "stream",
     "text": [
      "C:\\ProgramData\\Anaconda3\\lib\\site-packages\\ipykernel_launcher.py:3: SettingWithCopyWarning: \n",
      "A value is trying to be set on a copy of a slice from a DataFrame\n",
      "\n",
      "See the caveats in the documentation: http://pandas.pydata.org/pandas-docs/stable/user_guide/indexing.html#returning-a-view-versus-a-copy\n",
      "  This is separate from the ipykernel package so we can avoid doing imports until\n"
     ]
    }
   ],
   "source": [
    "for i in range(len(openbookqa['sia_score'])):\n",
    "    if(openbookqa['sia_score'][i]<=0.3):\n",
    "        openbookqa['sia_score'][i]=0\n",
    "is_4 = openbookqa['sia_score'] == 4\n",
    "is_3_4 =  (openbookqa['sia_score']>=3)  & (openbookqa['sia_score']<=3.9)\n",
    "is_2_3 =  (openbookqa['sia_score']>=2)  & (openbookqa['sia_score']<=2.9)\n",
    "is_1_2 =  (openbookqa['sia_score']>=1)  & (openbookqa['sia_score']<=1.9)\n",
    "is_0_1 =  (openbookqa['sia_score']>0)  & (openbookqa['sia_score']<=0.9)\n",
    "is_0 =  openbookqa['sia_score'] == 0"
   ]
  },
  {
   "cell_type": "code",
   "execution_count": 347,
   "metadata": {},
   "outputs": [],
   "source": [
    "openbookqa_new=openbookqa[is_0]"
   ]
  },
  {
   "cell_type": "code",
   "execution_count": 348,
   "metadata": {},
   "outputs": [
    {
     "data": {
      "text/plain": [
       "9937"
      ]
     },
     "execution_count": 348,
     "metadata": {},
     "output_type": "execute_result"
    }
   ],
   "source": [
    "len(openbookqa_new)"
   ]
  },
  {
   "cell_type": "code",
   "execution_count": 349,
   "metadata": {},
   "outputs": [],
   "source": [
    "final_dataframe=final_dataframe.append(openbookqa_new.sample(n=1552),ignore_index = True) "
   ]
  },
  {
   "cell_type": "markdown",
   "metadata": {},
   "source": [
    "# MSMARCO"
   ]
  },
  {
   "cell_type": "code",
   "execution_count": 395,
   "metadata": {},
   "outputs": [],
   "source": [
    "is_4 = msmarco['sia_score'] == 4\n",
    "is_3_4 =  (msmarco['sia_score']>=3)  & (msmarco['sia_score']<=3.9)\n",
    "is_2_3 =  (msmarco['sia_score']>=2)  & (msmarco['sia_score']<=2.9)\n",
    "is_1_2 =  (msmarco['sia_score']>=1)  & (msmarco['sia_score']<=1.9)\n",
    "is_0_1 =  (msmarco['sia_score']>0)  & (msmarco['sia_score']<=0.9)\n",
    "is_0 =  msmarco['sia_score'] == 0"
   ]
  },
  {
   "cell_type": "code",
   "execution_count": 419,
   "metadata": {},
   "outputs": [],
   "source": [
    "msmarco_new=msmarco[is_0]"
   ]
  },
  {
   "cell_type": "code",
   "execution_count": 420,
   "metadata": {},
   "outputs": [
    {
     "data": {
      "text/plain": [
       "335"
      ]
     },
     "execution_count": 420,
     "metadata": {},
     "output_type": "execute_result"
    }
   ],
   "source": [
    "len(msmarco_new)"
   ]
  },
  {
   "cell_type": "code",
   "execution_count": 421,
   "metadata": {},
   "outputs": [],
   "source": [
    "final_dataframe=final_dataframe.append(msmarco_new.sample(n=335),ignore_index = True) "
   ]
  },
  {
   "cell_type": "markdown",
   "metadata": {},
   "source": [
    "# HOTPOT QA"
   ]
  },
  {
   "cell_type": "code",
   "execution_count": 13,
   "metadata": {},
   "outputs": [],
   "source": [
    " hotpotqa['sia_score']= hotpotqa['sia_score']*4/5  "
   ]
  },
  {
   "cell_type": "code",
   "execution_count": 15,
   "metadata": {},
   "outputs": [
    {
     "name": "stderr",
     "output_type": "stream",
     "text": [
      "C:\\ProgramData\\Anaconda3\\lib\\site-packages\\ipykernel_launcher.py:4: SettingWithCopyWarning: \n",
      "A value is trying to be set on a copy of a slice from a DataFrame\n",
      "\n",
      "See the caveats in the documentation: http://pandas.pydata.org/pandas-docs/stable/user_guide/indexing.html#returning-a-view-versus-a-copy\n",
      "  after removing the cwd from sys.path.\n"
     ]
    },
    {
     "name": "stdout",
     "output_type": "stream",
     "text": [
      "10040\n"
     ]
    }
   ],
   "source": [
    "j=0\n",
    "for i in range(len(hotpotqa['exact_ans'])):\n",
    "    if(hotpotqa['exact_ans'][i]==True):\n",
    "        hotpotqa['sia_score'][i]=4\n",
    "        j=j+1\n",
    "print(j)\n",
    "        "
   ]
  },
  {
   "cell_type": "code",
   "execution_count": 26,
   "metadata": {},
   "outputs": [
    {
     "name": "stderr",
     "output_type": "stream",
     "text": [
      "C:\\ProgramData\\Anaconda3\\lib\\site-packages\\ipykernel_launcher.py:5: SettingWithCopyWarning: \n",
      "A value is trying to be set on a copy of a slice from a DataFrame\n",
      "\n",
      "See the caveats in the documentation: http://pandas.pydata.org/pandas-docs/stable/user_guide/indexing.html#returning-a-view-versus-a-copy\n",
      "  \"\"\"\n"
     ]
    },
    {
     "name": "stdout",
     "output_type": "stream",
     "text": [
      "1509\n"
     ]
    }
   ],
   "source": [
    "j=0\n",
    "for i in range(len(hotpotqa['sia_score'])):\n",
    "    if(hotpotqa['sia_score'][i]<0.45):\n",
    "        j=j+1\n",
    "        hotpotqa['sia_score'][i]=0\n",
    "print(j)\n",
    "        "
   ]
  },
  {
   "cell_type": "code",
   "execution_count": 68,
   "metadata": {},
   "outputs": [],
   "source": [
    "is_4 = hotpotqa['sia_score'] == 4\n",
    "is_3_4 =  (hotpotqa['sia_score']>=3)  & (hotpotqa['sia_score']<=3.9)\n",
    "is_2_3 =  (hotpotqa['sia_score']>=2)  & (hotpotqa['sia_score']<=2.9)\n",
    "is_1_2 =  (hotpotqa['sia_score']>=1)  & (hotpotqa['sia_score']<=1.9)\n",
    "is_0_1 =  (hotpotqa['sia_score']>0)  & (hotpotqa['sia_score']<=0.9)\n",
    "is_0 =  hotpotqa['sia_score'] == 0"
   ]
  },
  {
   "cell_type": "code",
   "execution_count": 69,
   "metadata": {},
   "outputs": [],
   "source": [
    "hotpotqa_new=hotpotqa[is_0]"
   ]
  },
  {
   "cell_type": "code",
   "execution_count": 70,
   "metadata": {},
   "outputs": [
    {
     "data": {
      "text/plain": [
       "1509"
      ]
     },
     "execution_count": 70,
     "metadata": {},
     "output_type": "execute_result"
    }
   ],
   "source": [
    "len(hotpotqa_new)"
   ]
  },
  {
   "cell_type": "code",
   "execution_count": 71,
   "metadata": {},
   "outputs": [
    {
     "data": {
      "text/html": [
       "<div>\n",
       "<style scoped>\n",
       "    .dataframe tbody tr th:only-of-type {\n",
       "        vertical-align: middle;\n",
       "    }\n",
       "\n",
       "    .dataframe tbody tr th {\n",
       "        vertical-align: top;\n",
       "    }\n",
       "\n",
       "    .dataframe thead th {\n",
       "        text-align: right;\n",
       "    }\n",
       "</style>\n",
       "<table border=\"1\" class=\"dataframe\">\n",
       "  <thead>\n",
       "    <tr style=\"text-align: right;\">\n",
       "      <th></th>\n",
       "      <th>question</th>\n",
       "      <th>sentence</th>\n",
       "      <th>sia_score</th>\n",
       "      <th>exact_ans</th>\n",
       "    </tr>\n",
       "  </thead>\n",
       "  <tbody>\n",
       "    <tr>\n",
       "      <td>0</td>\n",
       "      <td>Which magazine was started first Arthur's Maga...</td>\n",
       "      <td>Radio City is India's first private FM radio s...</td>\n",
       "      <td>0.000</td>\n",
       "      <td>False</td>\n",
       "    </tr>\n",
       "    <tr>\n",
       "      <td>1</td>\n",
       "      <td>Which magazine was started first Arthur's Maga...</td>\n",
       "      <td>Football in Albania existed before the Albania...</td>\n",
       "      <td>0.000</td>\n",
       "      <td>False</td>\n",
       "    </tr>\n",
       "    <tr>\n",
       "      <td>2</td>\n",
       "      <td>Which magazine was started first Arthur's Maga...</td>\n",
       "      <td>Echosmith is an American, Corporate indie pop ...</td>\n",
       "      <td>0.000</td>\n",
       "      <td>False</td>\n",
       "    </tr>\n",
       "    <tr>\n",
       "      <td>3</td>\n",
       "      <td>Which magazine was started first Arthur's Maga...</td>\n",
       "      <td>Women's colleges in the Southern United States...</td>\n",
       "      <td>0.864</td>\n",
       "      <td>False</td>\n",
       "    </tr>\n",
       "    <tr>\n",
       "      <td>4</td>\n",
       "      <td>Which magazine was started first Arthur's Maga...</td>\n",
       "      <td>The First Arthur County Courthouse and Jail, w...</td>\n",
       "      <td>0.000</td>\n",
       "      <td>False</td>\n",
       "    </tr>\n",
       "    <tr>\n",
       "      <td>5</td>\n",
       "      <td>Which magazine was started first Arthur's Maga...</td>\n",
       "      <td>Arthur's Magazine (1844–1846) was an American ...</td>\n",
       "      <td>4.000</td>\n",
       "      <td>True</td>\n",
       "    </tr>\n",
       "    <tr>\n",
       "      <td>6</td>\n",
       "      <td>Which magazine was started first Arthur's Maga...</td>\n",
       "      <td>The 2014–15 Ukrainian Hockey Championship was ...</td>\n",
       "      <td>0.000</td>\n",
       "      <td>False</td>\n",
       "    </tr>\n",
       "    <tr>\n",
       "      <td>7</td>\n",
       "      <td>Which magazine was started first Arthur's Maga...</td>\n",
       "      <td>First for Women is a woman's magazine publishe...</td>\n",
       "      <td>1.576</td>\n",
       "      <td>False</td>\n",
       "    </tr>\n",
       "    <tr>\n",
       "      <td>8</td>\n",
       "      <td>Which magazine was started first Arthur's Maga...</td>\n",
       "      <td>The Freeway Complex Fire was a 2008 wildfire i...</td>\n",
       "      <td>0.000</td>\n",
       "      <td>False</td>\n",
       "    </tr>\n",
       "    <tr>\n",
       "      <td>9</td>\n",
       "      <td>Which magazine was started first Arthur's Maga...</td>\n",
       "      <td>William Rast is an American clothing line foun...</td>\n",
       "      <td>0.000</td>\n",
       "      <td>False</td>\n",
       "    </tr>\n",
       "    <tr>\n",
       "      <td>10</td>\n",
       "      <td>The Oberoi family is part of a hotel company t...</td>\n",
       "      <td>The Ritz-Carlton Jakarta is a hotel and skyscr...</td>\n",
       "      <td>1.424</td>\n",
       "      <td>False</td>\n",
       "    </tr>\n",
       "    <tr>\n",
       "      <td>11</td>\n",
       "      <td>The Oberoi family is part of a hotel company t...</td>\n",
       "      <td>The Oberoi family is an Indian family that is ...</td>\n",
       "      <td>2.400</td>\n",
       "      <td>False</td>\n",
       "    </tr>\n",
       "    <tr>\n",
       "      <td>12</td>\n",
       "      <td>The Oberoi family is part of a hotel company t...</td>\n",
       "      <td>Ishqbaaaz (English: \"Lovers\") is an Indian dra...</td>\n",
       "      <td>0.848</td>\n",
       "      <td>False</td>\n",
       "    </tr>\n",
       "    <tr>\n",
       "      <td>13</td>\n",
       "      <td>The Oberoi family is part of a hotel company t...</td>\n",
       "      <td>The Hotel Tallcorn is located in Marshalltown,...</td>\n",
       "      <td>0.664</td>\n",
       "      <td>False</td>\n",
       "    </tr>\n",
       "    <tr>\n",
       "      <td>14</td>\n",
       "      <td>The Oberoi family is part of a hotel company t...</td>\n",
       "      <td>Rai Bahadur Mohan Singh Oberoi (15 August 1898...</td>\n",
       "      <td>1.336</td>\n",
       "      <td>False</td>\n",
       "    </tr>\n",
       "    <tr>\n",
       "      <td>15</td>\n",
       "      <td>The Oberoi family is part of a hotel company t...</td>\n",
       "      <td>Hotel Bond is a historic hotel, built in two s...</td>\n",
       "      <td>0.816</td>\n",
       "      <td>False</td>\n",
       "    </tr>\n",
       "    <tr>\n",
       "      <td>16</td>\n",
       "      <td>The Oberoi family is part of a hotel company t...</td>\n",
       "      <td>The Oberoi Group is a hotel company with its h...</td>\n",
       "      <td>4.000</td>\n",
       "      <td>True</td>\n",
       "    </tr>\n",
       "    <tr>\n",
       "      <td>17</td>\n",
       "      <td>The Oberoi family is part of a hotel company t...</td>\n",
       "      <td>Future Fibre Technologies (FFT) is a fiber opt...</td>\n",
       "      <td>4.000</td>\n",
       "      <td>True</td>\n",
       "    </tr>\n",
       "    <tr>\n",
       "      <td>18</td>\n",
       "      <td>The Oberoi family is part of a hotel company t...</td>\n",
       "      <td>The 289th Military Police Company was activate...</td>\n",
       "      <td>1.192</td>\n",
       "      <td>False</td>\n",
       "    </tr>\n",
       "    <tr>\n",
       "      <td>19</td>\n",
       "      <td>The Oberoi family is part of a hotel company t...</td>\n",
       "      <td>The Glennwanis Hotel is a historic hotel in Gl...</td>\n",
       "      <td>0.936</td>\n",
       "      <td>False</td>\n",
       "    </tr>\n",
       "  </tbody>\n",
       "</table>\n",
       "</div>"
      ],
      "text/plain": [
       "                                             question  \\\n",
       "0   Which magazine was started first Arthur's Maga...   \n",
       "1   Which magazine was started first Arthur's Maga...   \n",
       "2   Which magazine was started first Arthur's Maga...   \n",
       "3   Which magazine was started first Arthur's Maga...   \n",
       "4   Which magazine was started first Arthur's Maga...   \n",
       "5   Which magazine was started first Arthur's Maga...   \n",
       "6   Which magazine was started first Arthur's Maga...   \n",
       "7   Which magazine was started first Arthur's Maga...   \n",
       "8   Which magazine was started first Arthur's Maga...   \n",
       "9   Which magazine was started first Arthur's Maga...   \n",
       "10  The Oberoi family is part of a hotel company t...   \n",
       "11  The Oberoi family is part of a hotel company t...   \n",
       "12  The Oberoi family is part of a hotel company t...   \n",
       "13  The Oberoi family is part of a hotel company t...   \n",
       "14  The Oberoi family is part of a hotel company t...   \n",
       "15  The Oberoi family is part of a hotel company t...   \n",
       "16  The Oberoi family is part of a hotel company t...   \n",
       "17  The Oberoi family is part of a hotel company t...   \n",
       "18  The Oberoi family is part of a hotel company t...   \n",
       "19  The Oberoi family is part of a hotel company t...   \n",
       "\n",
       "                                             sentence  sia_score  exact_ans  \n",
       "0   Radio City is India's first private FM radio s...      0.000      False  \n",
       "1   Football in Albania existed before the Albania...      0.000      False  \n",
       "2   Echosmith is an American, Corporate indie pop ...      0.000      False  \n",
       "3   Women's colleges in the Southern United States...      0.864      False  \n",
       "4   The First Arthur County Courthouse and Jail, w...      0.000      False  \n",
       "5   Arthur's Magazine (1844–1846) was an American ...      4.000       True  \n",
       "6   The 2014–15 Ukrainian Hockey Championship was ...      0.000      False  \n",
       "7   First for Women is a woman's magazine publishe...      1.576      False  \n",
       "8   The Freeway Complex Fire was a 2008 wildfire i...      0.000      False  \n",
       "9   William Rast is an American clothing line foun...      0.000      False  \n",
       "10  The Ritz-Carlton Jakarta is a hotel and skyscr...      1.424      False  \n",
       "11  The Oberoi family is an Indian family that is ...      2.400      False  \n",
       "12  Ishqbaaaz (English: \"Lovers\") is an Indian dra...      0.848      False  \n",
       "13  The Hotel Tallcorn is located in Marshalltown,...      0.664      False  \n",
       "14  Rai Bahadur Mohan Singh Oberoi (15 August 1898...      1.336      False  \n",
       "15  Hotel Bond is a historic hotel, built in two s...      0.816      False  \n",
       "16  The Oberoi Group is a hotel company with its h...      4.000       True  \n",
       "17  Future Fibre Technologies (FFT) is a fiber opt...      4.000       True  \n",
       "18  The 289th Military Police Company was activate...      1.192      False  \n",
       "19  The Glennwanis Hotel is a historic hotel in Gl...      0.936      False  "
      ]
     },
     "execution_count": 71,
     "metadata": {},
     "output_type": "execute_result"
    }
   ],
   "source": [
    "hotpotqa.head(20)"
   ]
  },
  {
   "cell_type": "code",
   "execution_count": 72,
   "metadata": {},
   "outputs": [],
   "source": [
    "final_dataframe=final_dataframe.append(hotpotqa_new.sample(n=1506),ignore_index = True) "
   ]
  },
  {
   "cell_type": "markdown",
   "metadata": {},
   "source": [
    "# Final Dataframe"
   ]
  },
  {
   "cell_type": "code",
   "execution_count": 40,
   "metadata": {},
   "outputs": [],
   "source": [
    "final_dataframe=pd.DataFrame(columns=[\"sentence\",\"question\",\"sia_score\"])"
   ]
  },
  {
   "cell_type": "code",
   "execution_count": 74,
   "metadata": {},
   "outputs": [],
   "source": [
    "final_dataframe.to_csv(\"D:/FALL_2020/CSE576 NLP/Course_Project/Phase_2_Synthetic_Data/combined_dataset_group/hotpotqa10k.csv\",index=False)"
   ]
  },
  {
   "cell_type": "code",
   "execution_count": 73,
   "metadata": {},
   "outputs": [
    {
     "data": {
      "text/plain": [
       "10000"
      ]
     },
     "execution_count": 73,
     "metadata": {},
     "output_type": "execute_result"
    }
   ],
   "source": [
    "len(final_dataframe)"
   ]
  },
  {
   "cell_type": "code",
   "execution_count": null,
   "metadata": {},
   "outputs": [],
   "source": []
  }
 ],
 "metadata": {
  "colab": {
   "name": "Untitled2.ipynb",
   "provenance": []
  },
  "kernelspec": {
   "display_name": "Python 3",
   "language": "python",
   "name": "python3"
  },
  "language_info": {
   "codemirror_mode": {
    "name": "ipython",
    "version": 3
   },
   "file_extension": ".py",
   "mimetype": "text/x-python",
   "name": "python",
   "nbconvert_exporter": "python",
   "pygments_lexer": "ipython3",
   "version": "3.7.4"
  }
 },
 "nbformat": 4,
 "nbformat_minor": 1
}
